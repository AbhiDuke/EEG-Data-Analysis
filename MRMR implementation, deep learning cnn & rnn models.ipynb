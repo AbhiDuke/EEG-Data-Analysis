{
 "cells": [
  {
   "cell_type": "code",
   "execution_count": 1,
   "metadata": {},
   "outputs": [],
   "source": [
    "from skfeature.function.information_theoretical_based import MRMR\n",
    "\n",
    "from skfeature.function.information_theoretical_based import MRMR\n",
    "import mne\n",
    "import pandas as pd\n",
    "import numpy as np\n",
    "import matplotlib.pyplot as plt\n",
    "import seaborn as sns\n",
    "%matplotlib inline\n",
    "from mat4py import loadmat\n",
    "import scipy.io\n",
    "import os\n",
    "import cv2"
   ]
  },
  {
   "cell_type": "code",
   "execution_count": 2,
   "metadata": {},
   "outputs": [],
   "source": [
    "# input each epoch and all labels\n",
    "def extract_data(dset):\n",
    "    \n",
    "    epoch1 = pd.read_excel(dset)\n",
    "    labels_all = pd.read_excel('label_for_ut47_session0.xlsx')\n",
    "\n",
    "#########################################################################################\n",
    "#Cal of corr matrix\n",
    "    epoch1_corrmat=epoch1.corr()\n",
    "    cordf = pd.DataFrame(epoch1_corrmat)\n",
    "\n",
    "#########################################################################################\n",
    "#Cal of Mutual info score\n",
    "    from sklearn.feature_selection import mutual_info_regression\n",
    "    #features_X=epoch1\n",
    "    label_y = []\n",
    "    for i in range(0,360):\n",
    "        label_y.append(i)\n",
    "    y1 = pd.DataFrame(label_y)\n",
    "    import numpy as np\n",
    "    X1=np.array(epoch1)\n",
    "    y2 = np.array(y1.values.ravel())\n",
    "    mi = mutual_info_regression(X1,y2)\n",
    "    mi_df = pd.DataFrame(mi,columns=['mutual_info'])\n",
    "    #print(X1.shape)\n",
    "    #print(y2.shape)\n",
    "###########################################################################################\n",
    "# cal of bandpowers\n",
    "\n",
    "    import pyeeg\n",
    "\n",
    "    def BandPower( x ):\n",
    "\n",
    "        fs = 128\n",
    "        band = [1,4,8,12,30]\n",
    "\n",
    "        resp = pyeeg.bin_power(x,band,fs)\n",
    "\n",
    "        return resp\n",
    "    import numpy as np\n",
    "    dfn=epoch1.to_numpy()\n",
    "    dfn1 = dfn.T\n",
    "\n",
    "    a=[]\n",
    "    b=[]\n",
    "    for i in range(len(dfn1)):\n",
    "    \n",
    "        fs = 200\n",
    "        band = [1,4,8,13,30,100]\n",
    "\n",
    "        resp = pyeeg.bin_power(dfn1[i],band,fs)\n",
    "        a.append(resp[0])\n",
    "        b.append(resp[1])\n",
    "#pb = pd.DataFrame(a,columns=['Delta','Theta','Alpha','Beta','Gamma'])\n",
    "    pr = pd.DataFrame(b,columns=['Ratio Delta','Ratio Theta','Ratio Alpha','Ratio Beta','Ratio Gamma'])\n",
    "#prodata=pd.concat([pb,pr],axis=1)\n",
    "\n",
    "###########################################################################################\n",
    "#Cal of stats\n",
    "\n",
    "    m =pd.DataFrame(epoch1.mean(),columns=['mean'])\n",
    "    k =pd.DataFrame(epoch1.kurtosis(),columns=['kurtosis'])\n",
    "    sk= pd.DataFrame(epoch1.skew(),columns=['skew'])\n",
    "    st=pd.DataFrame(epoch1.std(),columns=['std'])\n",
    "    all_stats = pd.concat([m,k,sk,st],axis=1)\n",
    "#stats = pd.DataFrame([m,k,sk,st],columns=['mean','kurtosis','skew','std'])\n",
    "\n",
    "###########################################################################################\n",
    "#final test/train dataset\n",
    "\n",
    "    final_df = pd.concat([cordf,all_stats,pr,mi_df],axis=1)\n",
    " # MRMR   \n",
    "    \n",
    "    #print(final_df)\n",
    "    \n",
    "    \n",
    "    \n",
    "    return final_df"
   ]
  },
  {
   "cell_type": "code",
   "execution_count": 3,
   "metadata": {},
   "outputs": [],
   "source": [
    "train_data = []\n",
    "\n",
    "DATADIR = 'D:/subjFiles/UT047/behavioral/FR1/epochs eeg for session 0  uta47/data'\n",
    "CATEGORIES=['Recalled','Not_recalled']\n",
    "\n",
    "def create_traindata():\n",
    "    \n",
    "    for category in CATEGORIES:\n",
    "        #print(category)\n",
    "        path = os.path.join(DATADIR, category)\n",
    "        #print(path)\n",
    "        class_lab = CATEGORIES.index(category)\n",
    "        \n",
    "        \n",
    "        for ex in os.listdir(path):\n",
    "            try:\n",
    "                \n",
    "                ext_data = extract_data(ex)\n",
    "                datarry = np.array(ext_data)\n",
    "                \n",
    "                \n",
    "                \n",
    "                \n",
    "                train_data.append([datarry,class_lab])\n",
    "                \n",
    "            except Exception as e:\n",
    "                pass\n",
    "            \n",
    "\n",
    "            \n",
    "create_traindata()\n",
    "\n"
   ]
  },
  {
   "cell_type": "code",
   "execution_count": null,
   "metadata": {},
   "outputs": [],
   "source": []
  },
  {
   "cell_type": "code",
   "execution_count": 98,
   "metadata": {},
   "outputs": [],
   "source": [
    "label_1 = []\n",
    "df_1 = []\n",
    "for data,label in train_data:\n",
    "    #print(data.size)\n",
    "    for i in data:\n",
    "        label_1.append(label)\n",
    "        df_1.append(i)\n",
    "\n",
    "    #label.append(j)\n",
    "    #df_1.append(i)\n"
   ]
  },
  {
   "cell_type": "code",
   "execution_count": 99,
   "metadata": {},
   "outputs": [],
   "source": [
    "X = pd.DataFrame(df_1)\n",
    "y = pd.DataFrame(label_1)"
   ]
  },
  {
   "cell_type": "code",
   "execution_count": 100,
   "metadata": {},
   "outputs": [],
   "source": [
    "X=X.values\n",
    "X=X.astype(float)\n",
    "y1= y.values\n",
    "y2=y1[:,0]\n",
    "n_samples, n_features = X.shape \n",
    "num_fea = 25\n",
    "correct = 0\n",
    "# obtain the index of each feature on the training set\n",
    "idx,_,_ = MRMR.mrmr(X, y2, n_selected_features=num_fea)\n",
    " \n",
    "    # obtain the dataset on the selected features\n",
    "features = X[:, idx[0:num_fea]]"
   ]
  },
  {
   "cell_type": "code",
   "execution_count": 101,
   "metadata": {},
   "outputs": [
    {
     "data": {
      "text/plain": [
       "(19200,)"
      ]
     },
     "execution_count": 101,
     "metadata": {},
     "output_type": "execute_result"
    }
   ],
   "source": [
    "pd.DataFrame(features).head()\n",
    "y2.shape"
   ]
  },
  {
   "cell_type": "code",
   "execution_count": 102,
   "metadata": {},
   "outputs": [
    {
     "data": {
      "text/plain": [
       "(19200, 25)"
      ]
     },
     "execution_count": 102,
     "metadata": {},
     "output_type": "execute_result"
    }
   ],
   "source": [
    "from sklearn.preprocessing import scale\n",
    "import  random\n",
    "import tensorflow as tf\n",
    "from tensorflow.keras.models import Sequential\n",
    "from tensorflow.keras.layers import Dense, Dropout, Activation, Flatten, Conv2D, MaxPooling2D\n",
    "from tensorflow.keras.callbacks import TensorBoard\n",
    "import time\n",
    "from tensorflow.keras.layers import Dense, Dropout, Activation, Flatten, Conv2D, MaxPooling2D,LSTMCell, LSTM,BatchNormalization\n",
    "from tensorflow.keras.callbacks import TensorBoard\n",
    "#random.shuffle(train_data)\n",
    "#feat_all=[]\n",
    "#label_all=[]\n",
    "#for features,label in train_data:\n",
    "#    feat_all.append(features)\n",
    "#    label_all.append(label)\n",
    "X1 = np.array(features)\n",
    "#X1 = tf.keras.utils.normalize(X1)\n",
    "X1.shape"
   ]
  },
  {
   "cell_type": "code",
   "execution_count": 125,
   "metadata": {},
   "outputs": [
    {
     "data": {
      "text/plain": [
       "(17280, 25)"
      ]
     },
     "execution_count": 125,
     "metadata": {},
     "output_type": "execute_result"
    }
   ],
   "source": [
    "from sklearn.model_selection import train_test_split\n",
    "\n",
    "#X_train,X_test,y_train,y_test=train_test_split(X1,y2,test_size=0.10,stratify = y2)\n",
    "from sklearn.model_selection import train_test_split\n",
    "X_train,X_test,y_train,y_test=train_test_split(X1,y2,test_size=0.10,stratify=y2,random_state=0)\n",
    "\n",
    "X_train.shape"
   ]
  },
  {
   "cell_type": "code",
   "execution_count": 143,
   "metadata": {},
   "outputs": [],
   "source": [
    "# Oversampling \n",
    "\n",
    "#from imblearn.over_sampling import SMOTE\n",
    "#sm = SMOTE()\n",
    "#X_train_1, y_train_2 = sm.fit_sample(X_train, y_train)\n",
    "X_train_1=tf.keras.utils.normalize(X_train,axis=1)\n",
    "X_test=tf.keras.utils.normalize(X_test,axis=1)\n",
    "X_train_1 = X_train_1.reshape(17280,1,25)\n",
    "X_test = X_test.reshape(1920,1,25)"
   ]
  },
  {
   "cell_type": "code",
   "execution_count": null,
   "metadata": {},
   "outputs": [],
   "source": []
  },
  {
   "cell_type": "code",
   "execution_count": 150,
   "metadata": {},
   "outputs": [
    {
     "name": "stdout",
     "output_type": "stream",
     "text": [
      "Train on 15552 samples, validate on 1728 samples\n",
      "Epoch 1/10\n",
      "15552/15552 [==============================] - 7s 432us/sample - loss: 0.7164 - accuracy: 0.5597 - val_loss: 0.6712 - val_accuracy: 0.6244\n",
      "Epoch 2/10\n",
      "15552/15552 [==============================] - 4s 230us/sample - loss: 0.6726 - accuracy: 0.6094 - val_loss: 0.6661 - val_accuracy: 0.6244\n",
      "Epoch 3/10\n",
      "15552/15552 [==============================] - 4s 257us/sample - loss: 0.6689 - accuracy: 0.6115 - val_loss: 0.6627 - val_accuracy: 0.6244\n",
      "Epoch 4/10\n",
      "15552/15552 [==============================] - 4s 267us/sample - loss: 0.6678 - accuracy: 0.6121 - val_loss: 0.6627 - val_accuracy: 0.6244\n",
      "Epoch 5/10\n",
      "15552/15552 [==============================] - 4s 277us/sample - loss: 0.6674 - accuracy: 0.6120 - val_loss: 0.6609 - val_accuracy: 0.6244\n",
      "Epoch 6/10\n",
      "15552/15552 [==============================] - 4s 265us/sample - loss: 0.6659 - accuracy: 0.6121 - val_loss: 0.6558 - val_accuracy: 0.6244\n",
      "Epoch 7/10\n",
      "15552/15552 [==============================] - 4s 249us/sample - loss: 0.6654 - accuracy: 0.6123 - val_loss: 0.6590 - val_accuracy: 0.6244\n",
      "Epoch 8/10\n",
      "15552/15552 [==============================] - 4s 263us/sample - loss: 0.6643 - accuracy: 0.6121 - val_loss: 0.6588 - val_accuracy: 0.6244\n",
      "Epoch 9/10\n",
      "15552/15552 [==============================] - 4s 260us/sample - loss: 0.6648 - accuracy: 0.6119 - val_loss: 0.6563 - val_accuracy: 0.6244\n",
      "Epoch 10/10\n",
      "15552/15552 [==============================] - 3s 211us/sample - loss: 0.6646 - accuracy: 0.6121 - val_loss: 0.6588 - val_accuracy: 0.6244\n"
     ]
    },
    {
     "data": {
      "text/plain": [
       "<tensorflow.python.keras.callbacks.History at 0x168008cd780>"
      ]
     },
     "execution_count": 150,
     "metadata": {},
     "output_type": "execute_result"
    }
   ],
   "source": [
    "\n",
    "\n",
    "\n",
    "#BATCH_SIZE = 64\n",
    "\n",
    "#Name = \"MRMR\".format(int(time.time()))\n",
    "\n",
    "model = Sequential()\n",
    "model.add(LSTM(25,input_shape = X_train_1.shape[1:],activation='relu',return_sequences=True))\n",
    "model.add(Dropout(0.2))\n",
    "model.add(BatchNormalization())\n",
    "\n",
    "model.add(LSTM(25,input_shape = X_train_1.shape[1:],activation='relu',return_sequences=True))\n",
    "model.add(Dropout(0.1))\n",
    "model.add(BatchNormalization())\n",
    "\n",
    "model.add(LSTM(52,input_shape=X_train_1.shape[1:],activation='relu',return_sequences=True))\n",
    "model.add(Dropout(0.2))\n",
    "model.add(BatchNormalization())\n",
    "\n",
    "\n",
    "model.add(Dense(25,activation='relu'))\n",
    "model.add(Dropout(0.2))\n",
    "\n",
    "model.add(Dense(2,activation='softmax'))\n",
    " \n",
    "#opt = tf.keras.optimizers.Adam(lr=0.001,decay = 1e-6)\n",
    "model.compile(loss = 'sparse_categorical_crossentropy',optimizer = 'adam', metrics = ['accuracy'])\n",
    "\n",
    "#tensor_b = TensorBoard(log_dir=f'logs)\n",
    "\n",
    "model.fit(X_train_1,y_train, epochs =10 ,batch_size = 30,  validation_split=0.10)"
   ]
  },
  {
   "cell_type": "code",
   "execution_count": 138,
   "metadata": {},
   "outputs": [
    {
     "name": "stdout",
     "output_type": "stream",
     "text": [
      "              precision    recall  f1-score   support\n",
      "\n",
      "           0       1.00      0.00      0.00       742\n",
      "           1       0.61      1.00      0.76      1178\n",
      "\n",
      "    accuracy                           0.61      1920\n",
      "   macro avg       0.81      0.50      0.38      1920\n",
      "weighted avg       0.76      0.61      0.47      1920\n",
      "\n"
     ]
    }
   ],
   "source": [
    "predictions=model.predict(X_test)\n",
    "predictions_classes=model.predict_classes(X_test)\n",
    "from sklearn.metrics import confusion_matrix,classification_report\n",
    "import numpy as np\n",
    "cm=confusion_matrix(y_test,predictions_classes)\n",
    "print(classification_report(y_test,predictions_classes))"
   ]
  },
  {
   "cell_type": "code",
   "execution_count": 136,
   "metadata": {},
   "outputs": [
    {
     "name": "stdout",
     "output_type": "stream",
     "text": [
      "Confusion matrix, without normalization\n",
      "[[   0  742]\n",
      " [   0 1178]]\n"
     ]
    },
    {
     "data": {
      "image/png": "[encoded data removed]",
      "text/plain": [
       "<Figure size 432x288 with 2 Axes>"
      ]
     },
     "metadata": {
      "needs_background": "light"
     },
     "output_type": "display_data"
    }
   ],
   "source": [
    "# Confusion Matrix Function for validation dataset\n",
    "\n",
    "%matplotlib inline\n",
    "import itertools\n",
    "import matplotlib.pyplot as plt\n",
    "def plot_confusion_matrix(cm, classes,\n",
    "                          normalize=False,\n",
    "                          title='Confusion matrix',cmap=plt.cm.Blues):\n",
    "    if normalize:\n",
    "        cm = cm.astype('float') / cm.sum(axis=1)[:, np.newaxis]\n",
    "        print(\"Normalized confusion matrix\")\n",
    "    else:\n",
    "        print('Confusion matrix, without normalization')\n",
    "\n",
    "    print(cm)\n",
    "\n",
    "    plt.imshow(cm, interpolation='nearest', cmap=cmap)\n",
    "    plt.title(title)\n",
    "    plt.colorbar()\n",
    "    tick_marks = np.arange(len(classes))\n",
    "    plt.xticks(tick_marks, classes, rotation=45)\n",
    "    plt.yticks(tick_marks, classes)\n",
    "\n",
    "    fmt = '.2f' if normalize else 'd'\n",
    "    thresh = cm.max() / 2.\n",
    "    for i, j in itertools.product(range(cm.shape[0]), range(cm.shape[1])):\n",
    "        plt.text(j, i, format(cm[i, j], fmt),\n",
    "                 horizontalalignment=\"center\",\n",
    "                 color=\"white\" if cm[i, j] > thresh else \"black\")\n",
    "\n",
    "    plt.ylabel('True label')\n",
    "    plt.xlabel('Predicted label')\n",
    "    plt.tight_layout()\n",
    "cmn=['Recalled','Not_Recalled']\n",
    "plot_confusion_matrix(cm,cmn,title='Confusion matrix',cmap=plt.cm.Blues)"
   ]
  },
  {
   "cell_type": "code",
   "execution_count": 93,
   "metadata": {},
   "outputs": [
    {
     "data": {
      "text/plain": [
       "array([[[0.40333813, 0.59666187]],\n",
       "\n",
       "       [[0.40347838, 0.5965216 ]],\n",
       "\n",
       "       [[0.40339935, 0.59660065]],\n",
       "\n",
       "       ...,\n",
       "\n",
       "       [[0.4033496 , 0.5966504 ]],\n",
       "\n",
       "       [[0.40325785, 0.5967421 ]],\n",
       "\n",
       "       [[0.4033161 , 0.59668386]]], dtype=float32)"
      ]
     },
     "execution_count": 93,
     "metadata": {},
     "output_type": "execute_result"
    }
   ],
   "source": [
    "ypred"
   ]
  },
  {
   "cell_type": "code",
   "execution_count": 94,
   "metadata": {},
   "outputs": [
    {
     "data": {
      "text/plain": [
       "array([[1],\n",
       "       [1],\n",
       "       [1],\n",
       "       ...,\n",
       "       [1],\n",
       "       [1],\n",
       "       [1]], dtype=int64)"
      ]
     },
     "execution_count": 94,
     "metadata": {},
     "output_type": "execute_result"
    }
   ],
   "source": [
    "predictions_classes"
   ]
  },
  {
   "cell_type": "code",
   "execution_count": 130,
   "metadata": {},
   "outputs": [
    {
     "data": {
      "text/plain": [
       "array([1, 0, 0, ..., 1, 1, 1], dtype=int64)"
      ]
     },
     "execution_count": 130,
     "metadata": {},
     "output_type": "execute_result"
    }
   ],
   "source": [
    "y_test"
   ]
  },
  {
   "cell_type": "code",
   "execution_count": null,
   "metadata": {},
   "outputs": [],
   "source": []
  }
 ],
 "metadata": {
  "kernelspec": {
   "display_name": "Python 3",
   "language": "python",
   "name": "python3"
  },
  "language_info": {
   "codemirror_mode": {
    "name": "ipython",
    "version": 3
   },
   "file_extension": ".py",
   "mimetype": "text/x-python",
   "name": "python",
   "nbconvert_exporter": "python",
   "pygments_lexer": "ipython3",
   "version": "3.7.3"
  }
 },
 "nbformat": 4,
 "nbformat_minor": 2
}
