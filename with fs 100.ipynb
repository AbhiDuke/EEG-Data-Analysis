{
 "cells": [
  {
   "cell_type": "code",
   "execution_count": 12,
   "metadata": {},
   "outputs": [],
   "source": [
    "from skfeature.function.information_theoretical_based import MRMR\n",
    "\n",
    "from skfeature.function.information_theoretical_based import MRMR\n",
    "import mne\n",
    "import pandas as pd\n",
    "import numpy as np\n",
    "import matplotlib.pyplot as plt\n",
    "import seaborn as sns\n",
    "%matplotlib inline\n",
    "from mat4py import loadmat\n",
    "import scipy.io\n",
    "import os\n",
    "import cv2\n",
    "from sklearn.metrics import classification_report, confusion_matrix"
   ]
  },
  {
   "cell_type": "code",
   "execution_count": 2,
   "metadata": {},
   "outputs": [],
   "source": [
    "def extract_data(dset):\n",
    "    epoch1 = pd.read_excel(dset)\n",
    "    labels_all = pd.read_excel('label_for_ut47_session0.xlsx')\n",
    "    \n",
    "#########################################################################################\n",
    "#Cal of corr matrix\n",
    "    epoch1_corrmat=epoch1.corr()\n",
    "    cordf = pd.DataFrame(epoch1_corrmat)\n",
    "\n",
    "#########################################################################################\n",
    "#Cal of Mutual info score\n",
    "    \n",
    "    mi = epoch1.corr(method='spearman')\n",
    "    mi_df = pd.DataFrame(mi)\n",
    "\n",
    "    matrix = []\n",
    "\n",
    "    for i in range(0, 64):\n",
    "        row = []\n",
    "        matrix.append(row)\n",
    "        for j in range(0, 64):\n",
    "            if i == j:\n",
    "                row.append(1)\n",
    "            elif i>j:\n",
    "                row.append(cordf.iloc[i,j])\n",
    "            else:\n",
    "                row.append(mi_df.iloc[i,j])\n",
    "\n",
    "    rel_df = pd.DataFrame(matrix)\n",
    "    # cal of bandpowers\n",
    "\n",
    "    import pyeeg\n",
    "\n",
    "    def BandPower( x ):\n",
    "\n",
    "        fs = 128\n",
    "        band = [1,4,8,12,30]\n",
    "\n",
    "        resp = pyeeg.bin_power(x,band,fs)\n",
    "\n",
    "        return resp\n",
    "    import numpy as np\n",
    "    dfn=epoch1.to_numpy()\n",
    "    dfn1 = dfn.T\n",
    "\n",
    "    a=[]\n",
    "    b=[]\n",
    "    for i in range(len(dfn1)):\n",
    "    \n",
    "        fs = 200\n",
    "        band = [1,4,8,13,30,100]\n",
    "\n",
    "        resp = pyeeg.bin_power(dfn1[i],band,fs)\n",
    "        a.append(resp[0])\n",
    "        b.append(resp[1])\n",
    "#pb = pd.DataFrame(a,columns=['Delta','Theta','Alpha','Beta','Gamma'])\n",
    "    pr = pd.DataFrame(b,columns=['Ratio Delta','Ratio Theta','Ratio Alpha','Ratio Beta','Ratio Gamma'])\n",
    "#prodata=pd.concat([pb,pr],axis=1)\n",
    "\n",
    "###########################################################################################\n",
    "#Cal of stats\n",
    "\n",
    "    m =pd.DataFrame(epoch1.mean(),columns=['mean'])\n",
    "    k =pd.DataFrame(epoch1.kurtosis(),columns=['kurtosis'])\n",
    "    sk= pd.DataFrame(epoch1.skew(),columns=['skew'])\n",
    "    st=pd.DataFrame(epoch1.std(),columns=['std'])\n",
    "    all_stats = pd.concat([m,k,sk,st],axis=1)\n",
    "#stats = pd.DataFrame([m,k,sk,st],columns=['mean','kurtosis','skew','std'])\n",
    "\n",
    "###########################################################################################\n",
    "#final test/train dataset\n",
    "\n",
    "    final_df = pd.concat([rel_df,all_stats,pr],axis=1)\n",
    " # MRMR   \n",
    "    \n",
    "    #print(final_df.shape)\n",
    "    \n",
    "    return final_df"
   ]
  },
  {
   "cell_type": "code",
   "execution_count": 3,
   "metadata": {},
   "outputs": [],
   "source": [
    "train_data = []\n",
    "\n",
    "DATADIR = 'D:/subjFiles/UT047/behavioral/FR1/epochs eeg for session 0  uta47/data'\n",
    "CATEGORIES=['Recalled','Not_recalled']\n",
    "\n",
    "def create_traindata():\n",
    "    \n",
    "    for category in CATEGORIES:\n",
    "        #print(category)\n",
    "        path = os.path.join(DATADIR, category)\n",
    "        #print(path)\n",
    "        class_lab = CATEGORIES.index(category)\n",
    "        \n",
    "        \n",
    "        for ex in os.listdir(path):\n",
    "            try:\n",
    "                \n",
    "                ext_data = extract_data(ex)\n",
    "                datarry = np.array(ext_data)\n",
    "                \n",
    "                \n",
    "                \n",
    "                \n",
    "                train_data.append([datarry,class_lab])\n",
    "                \n",
    "            except Exception as e:\n",
    "                pass\n",
    "            \n",
    "\n",
    "            \n",
    "create_traindata()"
   ]
  },
  {
   "cell_type": "code",
   "execution_count": 4,
   "metadata": {},
   "outputs": [
    {
     "data": {
      "text/plain": [
       "(300, 4672)"
      ]
     },
     "execution_count": 4,
     "metadata": {},
     "output_type": "execute_result"
    }
   ],
   "source": [
    "import  random\n",
    "#random.shuffle(train_data)\n",
    "feat_all=[]\n",
    "label_all=[]\n",
    "for features,label in train_data:\n",
    "    feat_all.append(features)\n",
    "    label_all.append(label)\n",
    "X = np.array(feat_all).reshape(300,4672)\n",
    "y = np.array(label_all)\n",
    "y_df = pd.DataFrame(label_all)\n",
    "X.shape"
   ]
  },
  {
   "cell_type": "code",
   "execution_count": 5,
   "metadata": {},
   "outputs": [],
   "source": [
    "import seaborn as sns\n",
    "from sklearn.preprocessing import MinMaxScaler\n",
    "scale = MinMaxScaler()\n",
    "new_df = scale.fit_transform(X)\n",
    "#sns_plot=sns.heatmap(new_df,xticklabels=2,yticklabels=False,square=True)\n",
    "#sns_plot.figure.savefig('testfig.png')\n",
    "\n"
   ]
  },
  {
   "cell_type": "code",
   "execution_count": 6,
   "metadata": {},
   "outputs": [
    {
     "data": {
      "text/plain": [
       "(300, 4672)"
      ]
     },
     "execution_count": 6,
     "metadata": {},
     "output_type": "execute_result"
    }
   ],
   "source": [
    "X = pd.DataFrame(new_df)\n",
    "y = pd.DataFrame(y)\n",
    "X.shape"
   ]
  },
  {
   "cell_type": "code",
   "execution_count": 7,
   "metadata": {},
   "outputs": [],
   "source": [
    "X=X.values\n",
    "X=X.astype(float)\n",
    "y1= y.values\n",
    "y2=y1[:,0]\n",
    "n_samples, n_features = X.shape \n",
    "num_fea = 100\n",
    "correct = 0\n",
    "# obtain the index of each feature on the training set\n",
    "idx,_,_ = MRMR.mrmr(X, y2, n_selected_features=num_fea)\n",
    " \n",
    "    # obtain the dataset on the selected features\n",
    "features = X[:, idx[0:num_fea]]"
   ]
  },
  {
   "cell_type": "code",
   "execution_count": 8,
   "metadata": {},
   "outputs": [
    {
     "data": {
      "text/plain": [
       "(300, 100)"
      ]
     },
     "execution_count": 8,
     "metadata": {},
     "output_type": "execute_result"
    }
   ],
   "source": [
    "X1 = np.array(features)\n",
    "X1.shape"
   ]
  },
  {
   "cell_type": "code",
   "execution_count": 130,
   "metadata": {},
   "outputs": [],
   "source": [
    "from sklearn.model_selection import train_test_split\n",
    "\n",
    "#X_train,X_test,y_train,y_test=train_test_split(X1,y2,test_size=0.10,stratify = y2)\n",
    "from sklearn.model_selection import train_test_split\n",
    "X_train,X_test,y_train,y_test=train_test_split(X1,y2,test_size=0.20,stratify=y2,random_state=0)"
   ]
  },
  {
   "cell_type": "code",
   "execution_count": 131,
   "metadata": {},
   "outputs": [
    {
     "data": {
      "text/plain": [
       "(240, 100)"
      ]
     },
     "execution_count": 131,
     "metadata": {},
     "output_type": "execute_result"
    }
   ],
   "source": [
    "X_train.shape"
   ]
  },
  {
   "cell_type": "code",
   "execution_count": 208,
   "metadata": {},
   "outputs": [
    {
     "name": "stdout",
     "output_type": "stream",
     "text": [
      "              precision    recall  f1-score   support\n",
      "\n",
      "           0       0.67      0.09      0.15        23\n",
      "           1       0.63      0.97      0.77        37\n",
      "\n",
      "    accuracy                           0.63        60\n",
      "   macro avg       0.65      0.53      0.46        60\n",
      "weighted avg       0.65      0.63      0.53        60\n",
      "\n",
      "[[ 2 21]\n",
      " [ 1 36]]\n"
     ]
    }
   ],
   "source": [
    "#model 1 logistic regression\n",
    "from sklearn.linear_model import LogisticRegression\n",
    "\n",
    "model1 = LogisticRegression(max_iter=1000, solver='lbfgs',multi_class = 'auto')\n",
    "model1.fit(X_train, y_train)\n",
    "y_pred1 = model1.predict(X_test)\n",
    "\n",
    "#use print only if train_test_split is used\n",
    "print(classification_report(y_test,y_pred1))\n",
    "print(confusion_matrix(y_test,y_pred1))   "
   ]
  },
  {
   "cell_type": "code",
   "execution_count": 243,
   "metadata": {},
   "outputs": [
    {
     "name": "stdout",
     "output_type": "stream",
     "text": [
      "0.6166666666666667\n",
      "              precision    recall  f1-score   support\n",
      "\n",
      "           0       0.50      0.35      0.41        23\n",
      "           1       0.66      0.78      0.72        37\n",
      "\n",
      "    accuracy                           0.62        60\n",
      "   macro avg       0.58      0.57      0.56        60\n",
      "weighted avg       0.60      0.62      0.60        60\n",
      "\n",
      "[[ 8 15]\n",
      " [ 8 29]]\n"
     ]
    }
   ],
   "source": [
    "#Model2 Random forest with entropy\n",
    "from sklearn.ensemble import RandomForestClassifier\n",
    "\n",
    "\n",
    "model2=RandomForestClassifier(max_depth=7,n_estimators=10,min_samples_split=10,criterion='entropy')\n",
    "model2.fit(X_train,y_train)\n",
    "y_predrf=model2.predict(X_test)\n",
    "\n",
    "\n",
    "#use print only if train_test_split is used\n",
    "from sklearn.metrics import accuracy_score\n",
    "print(accuracy_score(y_test,y_predrf))\n",
    "print(classification_report(y_test,y_predrf))\n",
    "print(confusion_matrix(y_test,y_predrf))"
   ]
  },
  {
   "cell_type": "code",
   "execution_count": 206,
   "metadata": {},
   "outputs": [
    {
     "name": "stdout",
     "output_type": "stream",
     "text": [
      "[[10 13]\n",
      " [11 26]]\n",
      "              precision    recall  f1-score   support\n",
      "\n",
      "           0       0.48      0.43      0.45        23\n",
      "           1       0.67      0.70      0.68        37\n",
      "\n",
      "    accuracy                           0.60        60\n",
      "   macro avg       0.57      0.57      0.57        60\n",
      "weighted avg       0.59      0.60      0.60        60\n",
      "\n",
      "0.6\n"
     ]
    }
   ],
   "source": [
    "import xgboost as xgs\n",
    "model3 = xgs.XGBClassifier(max_depth=11,n_estimators=300)\n",
    "model3.fit(X_train,y_train)\n",
    "ypred3 = model3.predict(X_test)\n",
    "\n",
    "#use print only if train_test_split is used\n",
    "#from sklearn.metrics import confusion_matrix,classification_report\n",
    "print(confusion_matrix(y_test,ypred3))\n",
    "print(classification_report(y_test,ypred3))\n",
    "print(accuracy_score(y_test,ypred3))"
   ]
  },
  {
   "cell_type": "code",
   "execution_count": 230,
   "metadata": {},
   "outputs": [
    {
     "name": "stdout",
     "output_type": "stream",
     "text": [
      "0.7333333333333333\n",
      "[[11 12]\n",
      " [ 4 33]]\n",
      "              precision    recall  f1-score   support\n",
      "\n",
      "           0       0.73      0.48      0.58        23\n",
      "           1       0.73      0.89      0.80        37\n",
      "\n",
      "    accuracy                           0.73        60\n",
      "   macro avg       0.73      0.69      0.69        60\n",
      "weighted avg       0.73      0.73      0.72        60\n",
      "\n"
     ]
    }
   ],
   "source": [
    "#model 4 SVM\n",
    "from sklearn.svm import SVC\n",
    "model4 = SVC(C=500,gamma=0.01,probability=True,)\n",
    "model4.fit(X_train,y_train)\n",
    "ypred4 = model4.predict(X_test)\n",
    "\n",
    "from sklearn.metrics import confusion_matrix,classification_report\n",
    "#use print only if train_test_split is used\n",
    "print(accuracy_score(y_test,ypred4))\n",
    "print(confusion_matrix(y_test,ypred4))\n",
    "print(classification_report(y_test,ypred4))"
   ]
  },
  {
   "cell_type": "code",
   "execution_count": 165,
   "metadata": {},
   "outputs": [
    {
     "name": "stdout",
     "output_type": "stream",
     "text": [
      "              precision    recall  f1-score   support\n",
      "\n",
      "           0       0.22      0.22      0.22        23\n",
      "           1       0.51      0.51      0.51        37\n",
      "\n",
      "    accuracy                           0.40        60\n",
      "   macro avg       0.37      0.37      0.37        60\n",
      "weighted avg       0.40      0.40      0.40        60\n",
      "\n",
      "[[ 5 18]\n",
      " [18 19]]\n"
     ]
    }
   ],
   "source": [
    "#model 5 random forst with information gain or gini\n",
    "from sklearn.ensemble import RandomForestClassifier\n",
    "model6=RandomForestClassifier(class_weight = 'balanced',max_depth=1000,n_estimators=3,min_samples_split=10,criterion='gini')\n",
    "model6.fit(X_train,y_train)\n",
    "y_predrf6=model6.predict(X_test)\n",
    "\n",
    "\n",
    "#use print only if train_test_split is used\n",
    "print(classification_report(y_test,y_predrf6))\n",
    "print(confusion_matrix(y_test,y_predrf6))"
   ]
  },
  {
   "cell_type": "code",
   "execution_count": 212,
   "metadata": {},
   "outputs": [
    {
     "name": "stdout",
     "output_type": "stream",
     "text": [
      "0.6\n",
      "[[ 5 18]\n",
      " [ 6 31]]\n",
      "              precision    recall  f1-score   support\n",
      "\n",
      "           0       0.45      0.22      0.29        23\n",
      "           1       0.63      0.84      0.72        37\n",
      "\n",
      "    accuracy                           0.60        60\n",
      "   macro avg       0.54      0.53      0.51        60\n",
      "weighted avg       0.56      0.60      0.56        60\n",
      "\n"
     ]
    }
   ],
   "source": [
    "\n",
    "from sklearn.ensemble import VotingClassifier\n",
    "#create a dictionary of our models\n",
    "estimators=[('RF1', model2),('svm',model4),('xgb',model3)]\n",
    "#create our voting classifier, inputting our models\n",
    "model5 = VotingClassifier(estimators, voting='soft')\n",
    "#fit model to training data\n",
    "model5.fit(X_train,y_train)\n",
    "#test our model on the test data\n",
    "ypred_en=model5.predict(X_test)\n",
    "\n",
    "#use print only if train_test_split is used\n",
    "print(model5.score(X_test, y_test))\n",
    "\n",
    "print(confusion_matrix(y_test,ypred_en))\n",
    "print(classification_report(y_test,ypred_en))"
   ]
  },
  {
   "cell_type": "code",
   "execution_count": 225,
   "metadata": {},
   "outputs": [],
   "source": [
    "# finding best params for svm\n",
    "\n",
    "from sklearn.model_selection import GridSearchCV\n",
    "param_grid = {'C' : [ 1, 10, 100,200,300,400,600,500,700,800, 1000 ], 'gamma': [1,0.1,0.0001]}"
   ]
  },
  {
   "cell_type": "code",
   "execution_count": 240,
   "metadata": {},
   "outputs": [
    {
     "name": "stderr",
     "output_type": "stream",
     "text": [
      "C:\\Users\\AB Duke\\Anaconda4\\lib\\site-packages\\sklearn\\model_selection\\_split.py:1978: FutureWarning: The default value of cv will change from 3 to 5 in version 0.22. Specify it explicitly to silence this warning.\n",
      "  warnings.warn(CV_WARNING, FutureWarning)\n",
      "[Parallel(n_jobs=1)]: Using backend SequentialBackend with 1 concurrent workers.\n",
      "[Parallel(n_jobs=1)]: Done   1 out of   1 | elapsed:    0.0s remaining:    0.0s\n"
     ]
    },
    {
     "name": "stdout",
     "output_type": "stream",
     "text": [
      "Fitting 3 folds for each of 33 candidates, totalling 99 fits\n",
      "[CV] C=1, gamma=1 ....................................................\n",
      "[CV] ..................................... C=1, gamma=1, total=   0.0s\n",
      "[CV] C=1, gamma=1 ....................................................\n",
      "[CV] ..................................... C=1, gamma=1, total=   0.0s\n",
      "[CV] C=1, gamma=1 ....................................................\n",
      "[CV] ..................................... C=1, gamma=1, total=   0.0s\n",
      "[CV] C=1, gamma=0.1 ..................................................\n",
      "[CV] ................................... C=1, gamma=0.1, total=   0.0s\n",
      "[CV] C=1, gamma=0.1 ..................................................\n",
      "[CV] ................................... C=1, gamma=0.1, total=   0.0s\n",
      "[CV] C=1, gamma=0.1 ..................................................\n",
      "[CV] ................................... C=1, gamma=0.1, total=   0.0s\n",
      "[CV] C=1, gamma=0.0001 ...............................................\n",
      "[CV] ................................ C=1, gamma=0.0001, total=   0.0s\n",
      "[CV] C=1, gamma=0.0001 ...............................................\n",
      "[CV] ................................ C=1, gamma=0.0001, total=   0.0s\n",
      "[CV] C=1, gamma=0.0001 ...............................................\n",
      "[CV] ................................ C=1, gamma=0.0001, total=   0.0s\n",
      "[CV] C=10, gamma=1 ...................................................\n",
      "[CV] .................................... C=10, gamma=1, total=   0.0s\n",
      "[CV] C=10, gamma=1 ...................................................\n",
      "[CV] .................................... C=10, gamma=1, total=   0.0s\n",
      "[CV] C=10, gamma=1 ...................................................\n",
      "[CV] .................................... C=10, gamma=1, total=   0.0s\n",
      "[CV] C=10, gamma=0.1 .................................................\n",
      "[CV] .................................. C=10, gamma=0.1, total=   0.0s\n",
      "[CV] C=10, gamma=0.1 .................................................\n",
      "[CV] .................................. C=10, gamma=0.1, total=   0.1s\n",
      "[CV] C=10, gamma=0.1 .................................................\n",
      "[CV] .................................. C=10, gamma=0.1, total=   0.0s\n",
      "[CV] C=10, gamma=0.0001 ..............................................\n",
      "[CV] ............................... C=10, gamma=0.0001, total=   0.0s\n",
      "[CV] C=10, gamma=0.0001 ..............................................\n",
      "[CV] ............................... C=10, gamma=0.0001, total=   0.0s\n",
      "[CV] C=10, gamma=0.0001 ..............................................\n",
      "[CV] ............................... C=10, gamma=0.0001, total=   0.0s\n",
      "[CV] C=100, gamma=1 ..................................................\n",
      "[CV] ................................... C=100, gamma=1, total=   0.0s\n",
      "[CV] C=100, gamma=1 ..................................................\n",
      "[CV] ................................... C=100, gamma=1, total=   0.0s\n",
      "[CV] C=100, gamma=1 ..................................................\n",
      "[CV] ................................... C=100, gamma=1, total=   0.0s\n",
      "[CV] C=100, gamma=0.1 ................................................\n",
      "[CV] ................................. C=100, gamma=0.1, total=   0.0s\n",
      "[CV] C=100, gamma=0.1 ................................................\n",
      "[CV] ................................. C=100, gamma=0.1, total=   0.0s\n",
      "[CV] C=100, gamma=0.1 ................................................\n",
      "[CV] ................................. C=100, gamma=0.1, total=   0.0s\n",
      "[CV] C=100, gamma=0.0001 .............................................\n",
      "[CV] .............................. C=100, gamma=0.0001, total=   0.0s\n",
      "[CV] C=100, gamma=0.0001 .............................................\n",
      "[CV] .............................. C=100, gamma=0.0001, total=   0.0s\n",
      "[CV] C=100, gamma=0.0001 .............................................\n",
      "[CV] .............................. C=100, gamma=0.0001, total=   0.0s\n",
      "[CV] C=200, gamma=1 ..................................................\n",
      "[CV] ................................... C=200, gamma=1, total=   0.0s\n",
      "[CV] C=200, gamma=1 ..................................................\n",
      "[CV] ................................... C=200, gamma=1, total=   0.0s\n",
      "[CV] C=200, gamma=1 ..................................................\n",
      "[CV] ................................... C=200, gamma=1, total=   0.0s\n",
      "[CV] C=200, gamma=0.1 ................................................\n",
      "[CV] ................................. C=200, gamma=0.1, total=   0.0s\n",
      "[CV] C=200, gamma=0.1 ................................................\n",
      "[CV] ................................. C=200, gamma=0.1, total=   0.0s\n",
      "[CV] C=200, gamma=0.1 ................................................\n",
      "[CV] ................................. C=200, gamma=0.1, total=   0.0s\n",
      "[CV] C=200, gamma=0.0001 .............................................\n",
      "[CV] .............................. C=200, gamma=0.0001, total=   0.0s\n",
      "[CV] C=200, gamma=0.0001 .............................................\n",
      "[CV] .............................. C=200, gamma=0.0001, total=   0.0s\n",
      "[CV] C=200, gamma=0.0001 .............................................\n",
      "[CV] .............................. C=200, gamma=0.0001, total=   0.0s\n",
      "[CV] C=300, gamma=1 ..................................................\n",
      "[CV] ................................... C=300, gamma=1, total=   0.0s\n",
      "[CV] C=300, gamma=1 ..................................................\n",
      "[CV] ................................... C=300, gamma=1, total=   0.0s\n",
      "[CV] C=300, gamma=1 ..................................................\n",
      "[CV] ................................... C=300, gamma=1, total=   0.0s\n",
      "[CV] C=300, gamma=0.1 ................................................\n",
      "[CV] ................................. C=300, gamma=0.1, total=   0.0s\n",
      "[CV] C=300, gamma=0.1 ................................................\n",
      "[CV] ................................. C=300, gamma=0.1, total=   0.0s\n",
      "[CV] C=300, gamma=0.1 ................................................\n",
      "[CV] ................................. C=300, gamma=0.1, total=   0.0s\n",
      "[CV] C=300, gamma=0.0001 .............................................\n",
      "[CV] .............................. C=300, gamma=0.0001, total=   0.0s\n",
      "[CV] C=300, gamma=0.0001 .............................................\n",
      "[CV] .............................. C=300, gamma=0.0001, total=   0.0s\n",
      "[CV] C=300, gamma=0.0001 .............................................\n",
      "[CV] .............................. C=300, gamma=0.0001, total=   0.0s\n",
      "[CV] C=400, gamma=1 ..................................................\n",
      "[CV] ................................... C=400, gamma=1, total=   0.0s\n",
      "[CV] C=400, gamma=1 ..................................................\n",
      "[CV] ................................... C=400, gamma=1, total=   0.0s\n",
      "[CV] C=400, gamma=1 ..................................................\n",
      "[CV] ................................... C=400, gamma=1, total=   0.0s\n",
      "[CV] C=400, gamma=0.1 ................................................\n",
      "[CV] ................................. C=400, gamma=0.1, total=   0.0s\n",
      "[CV] C=400, gamma=0.1 ................................................\n",
      "[CV] ................................. C=400, gamma=0.1, total=   0.0s\n",
      "[CV] C=400, gamma=0.1 ................................................\n",
      "[CV] ................................. C=400, gamma=0.1, total=   0.0s\n",
      "[CV] C=400, gamma=0.0001 .............................................\n",
      "[CV] .............................. C=400, gamma=0.0001, total=   0.0s\n",
      "[CV] C=400, gamma=0.0001 .............................................\n",
      "[CV] .............................. C=400, gamma=0.0001, total=   0.0s\n",
      "[CV] C=400, gamma=0.0001 .............................................\n",
      "[CV] .............................. C=400, gamma=0.0001, total=   0.0s\n",
      "[CV] C=600, gamma=1 ..................................................\n",
      "[CV] ................................... C=600, gamma=1, total=   0.0s\n",
      "[CV] C=600, gamma=1 ..................................................\n",
      "[CV] ................................... C=600, gamma=1, total=   0.0s\n",
      "[CV] C=600, gamma=1 ..................................................\n",
      "[CV] ................................... C=600, gamma=1, total=   0.0s\n",
      "[CV] C=600, gamma=0.1 ................................................\n"
     ]
    },
    {
     "name": "stdout",
     "output_type": "stream",
     "text": [
      "[CV] ................................. C=600, gamma=0.1, total=   0.1s\n",
      "[CV] C=600, gamma=0.1 ................................................\n",
      "[CV] ................................. C=600, gamma=0.1, total=   0.0s\n",
      "[CV] C=600, gamma=0.1 ................................................\n",
      "[CV] ................................. C=600, gamma=0.1, total=   0.0s\n",
      "[CV] C=600, gamma=0.0001 .............................................\n",
      "[CV] .............................. C=600, gamma=0.0001, total=   0.0s\n",
      "[CV] C=600, gamma=0.0001 .............................................\n",
      "[CV] .............................. C=600, gamma=0.0001, total=   0.0s\n",
      "[CV] C=600, gamma=0.0001 .............................................\n",
      "[CV] .............................. C=600, gamma=0.0001, total=   0.0s\n",
      "[CV] C=500, gamma=1 ..................................................\n",
      "[CV] ................................... C=500, gamma=1, total=   0.0s\n",
      "[CV] C=500, gamma=1 ..................................................\n",
      "[CV] ................................... C=500, gamma=1, total=   0.0s\n",
      "[CV] C=500, gamma=1 ..................................................\n",
      "[CV] ................................... C=500, gamma=1, total=   0.0s\n",
      "[CV] C=500, gamma=0.1 ................................................\n",
      "[CV] ................................. C=500, gamma=0.1, total=   0.1s\n",
      "[CV] C=500, gamma=0.1 ................................................\n",
      "[CV] ................................. C=500, gamma=0.1, total=   0.0s\n",
      "[CV] C=500, gamma=0.1 ................................................\n",
      "[CV] ................................. C=500, gamma=0.1, total=   0.0s\n",
      "[CV] C=500, gamma=0.0001 .............................................\n",
      "[CV] .............................. C=500, gamma=0.0001, total=   0.0s\n",
      "[CV] C=500, gamma=0.0001 .............................................\n",
      "[CV] .............................. C=500, gamma=0.0001, total=   0.0s\n",
      "[CV] C=500, gamma=0.0001 .............................................\n",
      "[CV] .............................. C=500, gamma=0.0001, total=   0.0s\n",
      "[CV] C=700, gamma=1 ..................................................\n",
      "[CV] ................................... C=700, gamma=1, total=   0.0s\n",
      "[CV] C=700, gamma=1 ..................................................\n",
      "[CV] ................................... C=700, gamma=1, total=   0.0s\n",
      "[CV] C=700, gamma=1 ..................................................\n",
      "[CV] ................................... C=700, gamma=1, total=   0.0s\n",
      "[CV] C=700, gamma=0.1 ................................................\n",
      "[CV] ................................. C=700, gamma=0.1, total=   0.0s\n",
      "[CV] C=700, gamma=0.1 ................................................\n",
      "[CV] ................................. C=700, gamma=0.1, total=   0.0s\n",
      "[CV] C=700, gamma=0.1 ................................................\n",
      "[CV] ................................. C=700, gamma=0.1, total=   0.0s\n",
      "[CV] C=700, gamma=0.0001 .............................................\n",
      "[CV] .............................. C=700, gamma=0.0001, total=   0.0s\n",
      "[CV] C=700, gamma=0.0001 .............................................\n",
      "[CV] .............................. C=700, gamma=0.0001, total=   0.0s\n",
      "[CV] C=700, gamma=0.0001 .............................................\n",
      "[CV] .............................. C=700, gamma=0.0001, total=   0.0s\n",
      "[CV] C=800, gamma=1 ..................................................\n",
      "[CV] ................................... C=800, gamma=1, total=   0.0s\n",
      "[CV] C=800, gamma=1 ..................................................\n",
      "[CV] ................................... C=800, gamma=1, total=   0.0s\n",
      "[CV] C=800, gamma=1 ..................................................\n",
      "[CV] ................................... C=800, gamma=1, total=   0.0s\n",
      "[CV] C=800, gamma=0.1 ................................................\n",
      "[CV] ................................. C=800, gamma=0.1, total=   0.0s\n",
      "[CV] C=800, gamma=0.1 ................................................\n",
      "[CV] ................................. C=800, gamma=0.1, total=   0.0s\n",
      "[CV] C=800, gamma=0.1 ................................................\n",
      "[CV] ................................. C=800, gamma=0.1, total=   0.0s\n",
      "[CV] C=800, gamma=0.0001 .............................................\n",
      "[CV] .............................. C=800, gamma=0.0001, total=   0.0s\n",
      "[CV] C=800, gamma=0.0001 .............................................\n",
      "[CV] .............................. C=800, gamma=0.0001, total=   0.0s\n",
      "[CV] C=800, gamma=0.0001 .............................................\n",
      "[CV] .............................. C=800, gamma=0.0001, total=   0.0s\n",
      "[CV] C=1000, gamma=1 .................................................\n",
      "[CV] .................................. C=1000, gamma=1, total=   0.0s\n",
      "[CV] C=1000, gamma=1 .................................................\n",
      "[CV] .................................. C=1000, gamma=1, total=   0.0s\n",
      "[CV] C=1000, gamma=1 .................................................\n",
      "[CV] .................................. C=1000, gamma=1, total=   0.0s\n",
      "[CV] C=1000, gamma=0.1 ...............................................\n",
      "[CV] ................................ C=1000, gamma=0.1, total=   0.1s\n",
      "[CV] C=1000, gamma=0.1 ...............................................\n",
      "[CV] ................................ C=1000, gamma=0.1, total=   0.0s\n",
      "[CV] C=1000, gamma=0.1 ...............................................\n",
      "[CV] ................................ C=1000, gamma=0.1, total=   0.0s\n",
      "[CV] C=1000, gamma=0.0001 ............................................\n",
      "[CV] ............................. C=1000, gamma=0.0001, total=   0.0s\n",
      "[CV] C=1000, gamma=0.0001 ............................................\n",
      "[CV] ............................. C=1000, gamma=0.0001, total=   0.0s\n",
      "[CV] C=1000, gamma=0.0001 ............................................\n",
      "[CV] ............................. C=1000, gamma=0.0001, total=   0.0s\n"
     ]
    },
    {
     "name": "stderr",
     "output_type": "stream",
     "text": [
      "[Parallel(n_jobs=1)]: Done  99 out of  99 | elapsed:    2.8s finished\n"
     ]
    },
    {
     "data": {
      "text/plain": [
       "GridSearchCV(cv='warn', error_score='raise-deprecating',\n",
       "             estimator=SVC(C=1.0, cache_size=200, class_weight=None, coef0=0.0,\n",
       "                           decision_function_shape='ovr', degree=3,\n",
       "                           gamma='auto_deprecated', kernel='rbf', max_iter=-1,\n",
       "                           probability=True, random_state=None, shrinking=True,\n",
       "                           tol=0.001, verbose=False),\n",
       "             iid='warn', n_jobs=None,\n",
       "             param_grid={'C': [1, 10, 100, 200, 300, 400, 600, 500, 700, 800,\n",
       "                               1000],\n",
       "                         'gamma': [1, 0.1, 0.0001]},\n",
       "             pre_dispatch='2*n_jobs', refit=True, return_train_score=False,\n",
       "             scoring=None, verbose=2)"
      ]
     },
     "execution_count": 240,
     "metadata": {},
     "output_type": "execute_result"
    }
   ],
   "source": [
    "grid = GridSearchCV(SVC(probability=True),param_grid,verbose=2)\n",
    "grid.fit(X_train,y_train)"
   ]
  },
  {
   "cell_type": "code",
   "execution_count": 238,
   "metadata": {},
   "outputs": [],
   "source": [
    "grid_pridiction = grid.predict(X_test)"
   ]
  },
  {
   "cell_type": "code",
   "execution_count": 239,
   "metadata": {},
   "outputs": [
    {
     "data": {
      "text/plain": [
       "{'C': 1, 'gamma': 0.1}"
      ]
     },
     "execution_count": 239,
     "metadata": {},
     "output_type": "execute_result"
    }
   ],
   "source": [
    "grid.best_params_"
   ]
  },
  {
   "cell_type": "code",
   "execution_count": 234,
   "metadata": {},
   "outputs": [
    {
     "name": "stdout",
     "output_type": "stream",
     "text": [
      "0.6666666666666666\n",
      "[[10 13]\n",
      " [ 7 30]]\n",
      "              precision    recall  f1-score   support\n",
      "\n",
      "           0       0.59      0.43      0.50        23\n",
      "           1       0.70      0.81      0.75        37\n",
      "\n",
      "    accuracy                           0.67        60\n",
      "   macro avg       0.64      0.62      0.62        60\n",
      "weighted avg       0.66      0.67      0.65        60\n",
      "\n"
     ]
    }
   ],
   "source": [
    "from sklearn.neighbors import KNeighborsClassifier\n",
    "modelk = KNeighborsClassifier(n_neighbors=5)\n",
    "modelk.fit(X_train,y_train)\n",
    "ypredk = modelk.predict(X_test)\n",
    "print(modelk.score(X_test, y_test))\n",
    "print(confusion_matrix(y_test,ypredk))\n",
    "print(classification_report(y_test,ypredk))"
   ]
  },
  {
   "cell_type": "code",
   "execution_count": 179,
   "metadata": {},
   "outputs": [],
   "source": [
    "from sklearn.metrics import  recall_score"
   ]
  },
  {
   "cell_type": "code",
   "execution_count": 180,
   "metadata": {},
   "outputs": [
    {
     "ename": "ValueError",
     "evalue": "Classification metrics can't handle a mix of continuous-multioutput and binary targets",
     "output_type": "error",
     "traceback": [
      "\u001b[1;31m---------------------------------------------------------------------------\u001b[0m",
      "\u001b[1;31mValueError\u001b[0m                                Traceback (most recent call last)",
      "\u001b[1;32m<ipython-input-180-1aaaa6c47649>\u001b[0m in \u001b[0;36m<module>\u001b[1;34m\u001b[0m\n\u001b[1;32m----> 1\u001b[1;33m \u001b[0mrecall_score\u001b[0m\u001b[1;33m(\u001b[0m\u001b[0mX_test\u001b[0m\u001b[1;33m,\u001b[0m \u001b[0my_test\u001b[0m\u001b[1;33m)\u001b[0m\u001b[1;33m\u001b[0m\u001b[1;33m\u001b[0m\u001b[0m\n\u001b[0m",
      "\u001b[1;32m~\\Anaconda4\\lib\\site-packages\\sklearn\\metrics\\classification.py\u001b[0m in \u001b[0;36mrecall_score\u001b[1;34m(y_true, y_pred, labels, pos_label, average, sample_weight)\u001b[0m\n\u001b[0;32m   1673\u001b[0m                                                  \u001b[0maverage\u001b[0m\u001b[1;33m=\u001b[0m\u001b[0maverage\u001b[0m\u001b[1;33m,\u001b[0m\u001b[1;33m\u001b[0m\u001b[1;33m\u001b[0m\u001b[0m\n\u001b[0;32m   1674\u001b[0m                                                  \u001b[0mwarn_for\u001b[0m\u001b[1;33m=\u001b[0m\u001b[1;33m(\u001b[0m\u001b[1;34m'recall'\u001b[0m\u001b[1;33m,\u001b[0m\u001b[1;33m)\u001b[0m\u001b[1;33m,\u001b[0m\u001b[1;33m\u001b[0m\u001b[1;33m\u001b[0m\u001b[0m\n\u001b[1;32m-> 1675\u001b[1;33m                                                  sample_weight=sample_weight)\n\u001b[0m\u001b[0;32m   1676\u001b[0m     \u001b[1;32mreturn\u001b[0m \u001b[0mr\u001b[0m\u001b[1;33m\u001b[0m\u001b[1;33m\u001b[0m\u001b[0m\n\u001b[0;32m   1677\u001b[0m \u001b[1;33m\u001b[0m\u001b[0m\n",
      "\u001b[1;32m~\\Anaconda4\\lib\\site-packages\\sklearn\\metrics\\classification.py\u001b[0m in \u001b[0;36mprecision_recall_fscore_support\u001b[1;34m(y_true, y_pred, beta, labels, pos_label, average, warn_for, sample_weight)\u001b[0m\n\u001b[0;32m   1413\u001b[0m         \u001b[1;32mraise\u001b[0m \u001b[0mValueError\u001b[0m\u001b[1;33m(\u001b[0m\u001b[1;34m\"beta should be >0 in the F-beta score\"\u001b[0m\u001b[1;33m)\u001b[0m\u001b[1;33m\u001b[0m\u001b[1;33m\u001b[0m\u001b[0m\n\u001b[0;32m   1414\u001b[0m     labels = _check_set_wise_labels(y_true, y_pred, average, labels,\n\u001b[1;32m-> 1415\u001b[1;33m                                     pos_label)\n\u001b[0m\u001b[0;32m   1416\u001b[0m \u001b[1;33m\u001b[0m\u001b[0m\n\u001b[0;32m   1417\u001b[0m     \u001b[1;31m# Calculate tp_sum, pred_sum, true_sum ###\u001b[0m\u001b[1;33m\u001b[0m\u001b[1;33m\u001b[0m\u001b[1;33m\u001b[0m\u001b[0m\n",
      "\u001b[1;32m~\\Anaconda4\\lib\\site-packages\\sklearn\\metrics\\classification.py\u001b[0m in \u001b[0;36m_check_set_wise_labels\u001b[1;34m(y_true, y_pred, average, labels, pos_label)\u001b[0m\n\u001b[0;32m   1237\u001b[0m                          str(average_options))\n\u001b[0;32m   1238\u001b[0m \u001b[1;33m\u001b[0m\u001b[0m\n\u001b[1;32m-> 1239\u001b[1;33m     \u001b[0my_type\u001b[0m\u001b[1;33m,\u001b[0m \u001b[0my_true\u001b[0m\u001b[1;33m,\u001b[0m \u001b[0my_pred\u001b[0m \u001b[1;33m=\u001b[0m \u001b[0m_check_targets\u001b[0m\u001b[1;33m(\u001b[0m\u001b[0my_true\u001b[0m\u001b[1;33m,\u001b[0m \u001b[0my_pred\u001b[0m\u001b[1;33m)\u001b[0m\u001b[1;33m\u001b[0m\u001b[1;33m\u001b[0m\u001b[0m\n\u001b[0m\u001b[0;32m   1240\u001b[0m     \u001b[0mpresent_labels\u001b[0m \u001b[1;33m=\u001b[0m \u001b[0munique_labels\u001b[0m\u001b[1;33m(\u001b[0m\u001b[0my_true\u001b[0m\u001b[1;33m,\u001b[0m \u001b[0my_pred\u001b[0m\u001b[1;33m)\u001b[0m\u001b[1;33m\u001b[0m\u001b[1;33m\u001b[0m\u001b[0m\n\u001b[0;32m   1241\u001b[0m     \u001b[1;32mif\u001b[0m \u001b[0maverage\u001b[0m \u001b[1;33m==\u001b[0m \u001b[1;34m'binary'\u001b[0m\u001b[1;33m:\u001b[0m\u001b[1;33m\u001b[0m\u001b[1;33m\u001b[0m\u001b[0m\n",
      "\u001b[1;32m~\\Anaconda4\\lib\\site-packages\\sklearn\\metrics\\classification.py\u001b[0m in \u001b[0;36m_check_targets\u001b[1;34m(y_true, y_pred)\u001b[0m\n\u001b[0;32m     79\u001b[0m     \u001b[1;32mif\u001b[0m \u001b[0mlen\u001b[0m\u001b[1;33m(\u001b[0m\u001b[0my_type\u001b[0m\u001b[1;33m)\u001b[0m \u001b[1;33m>\u001b[0m \u001b[1;36m1\u001b[0m\u001b[1;33m:\u001b[0m\u001b[1;33m\u001b[0m\u001b[1;33m\u001b[0m\u001b[0m\n\u001b[0;32m     80\u001b[0m         raise ValueError(\"Classification metrics can't handle a mix of {0} \"\n\u001b[1;32m---> 81\u001b[1;33m                          \"and {1} targets\".format(type_true, type_pred))\n\u001b[0m\u001b[0;32m     82\u001b[0m \u001b[1;33m\u001b[0m\u001b[0m\n\u001b[0;32m     83\u001b[0m     \u001b[1;31m# We can't have more than one value on y_type => The set is no more needed\u001b[0m\u001b[1;33m\u001b[0m\u001b[1;33m\u001b[0m\u001b[1;33m\u001b[0m\u001b[0m\n",
      "\u001b[1;31mValueError\u001b[0m: Classification metrics can't handle a mix of continuous-multioutput and binary targets"
     ]
    }
   ],
   "source": [
    "recall_score(X_test, y_test)"
   ]
  },
  {
   "cell_type": "code",
   "execution_count": null,
   "metadata": {},
   "outputs": [],
   "source": []
  }
 ],
 "metadata": {
  "kernelspec": {
   "display_name": "Python 3",
   "language": "python",
   "name": "python3"
  },
  "language_info": {
   "codemirror_mode": {
    "name": "ipython",
    "version": 3
   },
   "file_extension": ".py",
   "mimetype": "text/x-python",
   "name": "python",
   "nbconvert_exporter": "python",
   "pygments_lexer": "ipython3",
   "version": "3.7.3"
  }
 },
 "nbformat": 4,
 "nbformat_minor": 2
}
