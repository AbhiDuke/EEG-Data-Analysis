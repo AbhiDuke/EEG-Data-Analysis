{
 "cells": [
  {
   "cell_type": "code",
   "execution_count": 1,
   "metadata": {},
   "outputs": [],
   "source": [
    "from skfeature.function.information_theoretical_based import MRMR\n",
    "\n",
    "from skfeature.function.information_theoretical_based import MRMR\n",
    "import mne\n",
    "import pandas as pd\n",
    "import numpy as np\n",
    "import matplotlib.pyplot as plt\n",
    "import seaborn as sns\n",
    "%matplotlib inline\n",
    "from mat4py import loadmat\n",
    "import scipy.io\n",
    "import os\n",
    "import cv2\n",
    "from sklearn.metrics import classification_report, confusion_matrix"
   ]
  },
  {
   "cell_type": "code",
   "execution_count": 2,
   "metadata": {},
   "outputs": [],
   "source": [
    "def extract_data(dset):\n",
    "    epoch1 = pd.read_excel(dset)\n",
    "    labels_all = pd.read_excel('label_for_ut47_session0.xlsx')\n",
    "    \n",
    "#########################################################################################\n",
    "#Cal of corr matrix\n",
    "    epoch1_corrmat=epoch1.corr()\n",
    "    cordf = pd.DataFrame(epoch1_corrmat)\n",
    "\n",
    "#########################################################################################\n",
    "#Cal of Mutual info score\n",
    "    \n",
    "    mi = epoch1.corr(method='spearman')\n",
    "    mi_df = pd.DataFrame(mi)\n",
    "\n",
    "    matrix = []\n",
    "\n",
    "    for i in range(0, 64):\n",
    "        row = []\n",
    "        matrix.append(row)\n",
    "        for j in range(0, 64):\n",
    "            if i == j:\n",
    "                row.append(1)\n",
    "            elif i>j:\n",
    "                row.append(cordf.iloc[i,j])\n",
    "            else:\n",
    "                row.append(mi_df.iloc[i,j])\n",
    "\n",
    "    rel_df = pd.DataFrame(matrix)\n",
    "    # cal of bandpowers\n",
    "\n",
    "    import pyeeg\n",
    "\n",
    "    def BandPower( x ):\n",
    "\n",
    "        fs = 128\n",
    "        band = [1,4,8,12,30]\n",
    "\n",
    "        resp = pyeeg.bin_power(x,band,fs)\n",
    "\n",
    "        return resp\n",
    "    import numpy as np\n",
    "    dfn=epoch1.to_numpy()\n",
    "    dfn1 = dfn.T\n",
    "\n",
    "    a=[]\n",
    "    b=[]\n",
    "    for i in range(len(dfn1)):\n",
    "    \n",
    "        fs = 200\n",
    "        band = [1,4,8,13,30,100]\n",
    "\n",
    "        resp = pyeeg.bin_power(dfn1[i],band,fs)\n",
    "        a.append(resp[0])\n",
    "        b.append(resp[1])\n",
    "#pb = pd.DataFrame(a,columns=['Delta','Theta','Alpha','Beta','Gamma'])\n",
    "    pr = pd.DataFrame(b,columns=['Ratio Delta','Ratio Theta','Ratio Alpha','Ratio Beta','Ratio Gamma'])\n",
    "#prodata=pd.concat([pb,pr],axis=1)\n",
    "\n",
    "###########################################################################################\n",
    "#Cal of stats\n",
    "\n",
    "    m =pd.DataFrame(epoch1.mean(),columns=['mean'])\n",
    "    k =pd.DataFrame(epoch1.kurtosis(),columns=['kurtosis'])\n",
    "    sk= pd.DataFrame(epoch1.skew(),columns=['skew'])\n",
    "    st=pd.DataFrame(epoch1.std(),columns=['std'])\n",
    "    all_stats = pd.concat([m,k,sk,st],axis=1)\n",
    "#stats = pd.DataFrame([m,k,sk,st],columns=['mean','kurtosis','skew','std'])\n",
    "\n",
    "###########################################################################################\n",
    "#final test/train dataset\n",
    "\n",
    "    final_df = pd.concat([rel_df,all_stats,pr],axis=1)\n",
    " # MRMR   \n",
    "    \n",
    "    #print(final_df.shape)\n",
    "    \n",
    "    return final_df"
   ]
  },
  {
   "cell_type": "code",
   "execution_count": 3,
   "metadata": {},
   "outputs": [],
   "source": [
    "train_data = []\n",
    "\n",
    "DATADIR = 'D:/subjFiles/UT047/behavioral/FR1/epochs eeg for session 0  uta47/data'\n",
    "CATEGORIES=['Recalled','Not_recalled']\n",
    "\n",
    "def create_traindata():\n",
    "    \n",
    "    for category in CATEGORIES:\n",
    "        #print(category)\n",
    "        path = os.path.join(DATADIR, category)\n",
    "        #print(path)\n",
    "        class_lab = CATEGORIES.index(category)\n",
    "        \n",
    "        \n",
    "        for ex in os.listdir(path):\n",
    "            try:\n",
    "                \n",
    "                ext_data = extract_data(ex)\n",
    "                datarry = np.array(ext_data)\n",
    "                \n",
    "                \n",
    "                \n",
    "                \n",
    "                train_data.append([datarry,class_lab])\n",
    "                \n",
    "            except Exception as e:\n",
    "                pass\n",
    "            \n",
    "\n",
    "            \n",
    "create_traindata()"
   ]
  },
  {
   "cell_type": "code",
   "execution_count": 4,
   "metadata": {},
   "outputs": [
    {
     "data": {
      "text/plain": [
       "(300, 4672)"
      ]
     },
     "execution_count": 4,
     "metadata": {},
     "output_type": "execute_result"
    }
   ],
   "source": [
    "import  random\n",
    "#random.shuffle(train_data)\n",
    "feat_all=[]\n",
    "label_all=[]\n",
    "for features,label in train_data:\n",
    "    feat_all.append(features)\n",
    "    label_all.append(label)\n",
    "X = np.array(feat_all).reshape(300,4672)\n",
    "y = np.array(label_all)\n",
    "y_df = pd.DataFrame(label_all)\n",
    "X.shape"
   ]
  },
  {
   "cell_type": "code",
   "execution_count": 5,
   "metadata": {},
   "outputs": [],
   "source": [
    "import seaborn as sns\n",
    "from sklearn.preprocessing import MinMaxScaler\n",
    "scale = MinMaxScaler()\n",
    "new_df = scale.fit_transform(X)\n",
    "#sns_plot=sns.heatmap(new_df,xticklabels=2,yticklabels=False,square=True)\n",
    "#sns_plot.figure.savefig('testfig.png')\n",
    "\n"
   ]
  },
  {
   "cell_type": "code",
   "execution_count": 9,
   "metadata": {},
   "outputs": [
    {
     "data": {
      "text/plain": [
       "(300, 4672)"
      ]
     },
     "execution_count": 9,
     "metadata": {},
     "output_type": "execute_result"
    }
   ],
   "source": [
    "X = pd.DataFrame(new_df)\n",
    "y = pd.DataFrame(y)\n",
    "X.shape"
   ]
  },
  {
   "cell_type": "code",
   "execution_count": 10,
   "metadata": {},
   "outputs": [],
   "source": [
    "X=X.values\n",
    "X=X.astype(float)\n",
    "y1= y.values\n",
    "y2=y1[:,0]\n",
    "n_samples, n_features = X.shape \n",
    "num_fea = 50\n",
    "correct = 0\n",
    "# obtain the index of each feature on the training set\n",
    "idx,_,_ = MRMR.mrmr(X, y2, n_selected_features=num_fea)\n",
    " \n",
    "    # obtain the dataset on the selected features\n",
    "features = X[:, idx[0:num_fea]]"
   ]
  },
  {
   "cell_type": "code",
   "execution_count": 11,
   "metadata": {},
   "outputs": [
    {
     "data": {
      "text/plain": [
       "(300, 50)"
      ]
     },
     "execution_count": 11,
     "metadata": {},
     "output_type": "execute_result"
    }
   ],
   "source": [
    "X1 = np.array(features)\n",
    "X1.shape\n",
    "#y1 = np.array(y)"
   ]
  },
  {
   "cell_type": "code",
   "execution_count": 266,
   "metadata": {},
   "outputs": [],
   "source": [
    "from sklearn.model_selection import train_test_split\n",
    "\n",
    "#X_train,X_test,y_train,y_test=train_test_split(X1,y2,test_size=0.10,stratify = y2)\n",
    "from sklearn.model_selection import train_test_split\n",
    "X_train,X_test,y_train,y_test=train_test_split(X1,y2,test_size=0.20,stratify=y2,random_state=0)"
   ]
  },
  {
   "cell_type": "code",
   "execution_count": 267,
   "metadata": {},
   "outputs": [
    {
     "name": "stdout",
     "output_type": "stream",
     "text": [
      "0.5333333333333333\n",
      "              precision    recall  f1-score   support\n",
      "\n",
      "           0       0.22      0.09      0.12        23\n",
      "           1       0.59      0.81      0.68        37\n",
      "\n",
      "    accuracy                           0.53        60\n",
      "   macro avg       0.41      0.45      0.40        60\n",
      "weighted avg       0.45      0.53      0.47        60\n",
      "\n",
      "[[ 2 21]\n",
      " [ 7 30]]\n"
     ]
    }
   ],
   "source": [
    "#Model2 Random forest with entropy\n",
    "from sklearn.ensemble import RandomForestClassifier\n",
    "\n",
    "\n",
    "model2=RandomForestClassifier(max_depth=10,n_estimators=2000,min_samples_split=3,criterion='gini')\n",
    "model2.fit(X_train,y_train)\n",
    "y_predrf=model2.predict(X_test)\n",
    "\n",
    "\n",
    "#use print only if train_test_split is used\n",
    "from sklearn.metrics import accuracy_score\n",
    "print(accuracy_score(y_test,y_predrf))\n",
    "print(classification_report(y_test,y_predrf))\n",
    "print(confusion_matrix(y_test,y_predrf))"
   ]
  },
  {
   "cell_type": "code",
   "execution_count": 268,
   "metadata": {},
   "outputs": [
    {
     "name": "stdout",
     "output_type": "stream",
     "text": [
      "[[ 7 16]\n",
      " [ 6 31]]\n",
      "              precision    recall  f1-score   support\n",
      "\n",
      "           0       0.54      0.30      0.39        23\n",
      "           1       0.66      0.84      0.74        37\n",
      "\n",
      "    accuracy                           0.63        60\n",
      "   macro avg       0.60      0.57      0.56        60\n",
      "weighted avg       0.61      0.63      0.60        60\n",
      "\n",
      "0.6333333333333333\n"
     ]
    }
   ],
   "source": [
    "import xgboost as xgs\n",
    "model3 = xgs.XGBClassifier(max_depth=5)\n",
    "model3.fit(X_train,y_train)\n",
    "ypred3 = model3.predict(X_test)\n",
    "\n",
    "#use print only if train_test_split is used\n",
    "#from sklearn.metrics import confusion_matrix,classification_report\n",
    "print(confusion_matrix(y_test,ypred3))\n",
    "print(classification_report(y_test,ypred3))\n",
    "print(accuracy_score(y_test,ypred3))"
   ]
  },
  {
   "cell_type": "code",
   "execution_count": 291,
   "metadata": {},
   "outputs": [
    {
     "name": "stdout",
     "output_type": "stream",
     "text": [
      "0.65\n",
      "[[ 6 17]\n",
      " [ 4 33]]\n",
      "              precision    recall  f1-score   support\n",
      "\n",
      "           0       0.60      0.26      0.36        23\n",
      "           1       0.66      0.89      0.76        37\n",
      "\n",
      "    accuracy                           0.65        60\n",
      "   macro avg       0.63      0.58      0.56        60\n",
      "weighted avg       0.64      0.65      0.61        60\n",
      "\n"
     ]
    }
   ],
   "source": [
    "#model 4 SVM\n",
    "from sklearn.svm import SVC\n",
    "model4 = SVC(C=800,gamma=0.001)\n",
    "model4.fit(X_train,y_train)\n",
    "ypred4 = model4.predict(X_test)\n",
    "\n",
    "from sklearn.metrics import confusion_matrix,classification_report\n",
    "#use print only if train_test_split is used\n",
    "print(accuracy_score(y_test,ypred4))\n",
    "print(confusion_matrix(y_test,ypred4))\n",
    "print(classification_report(y_test,ypred4))"
   ]
  },
  {
   "cell_type": "code",
   "execution_count": 306,
   "metadata": {},
   "outputs": [],
   "source": [
    "# finding best params for svm\n",
    "\n",
    "from sklearn.model_selection import GridSearchCV\n",
    "param_grid = {'C' : [0.1, 1, 10, 100,200,300,400,600,500,700,800,900, 1000 ], 'gamma': [1,0.1,0.001,0.0001,0.00001]}"
   ]
  },
  {
   "cell_type": "code",
   "execution_count": 307,
   "metadata": {},
   "outputs": [
    {
     "name": "stderr",
     "output_type": "stream",
     "text": [
      "C:\\Users\\AB Duke\\Anaconda4\\lib\\site-packages\\sklearn\\model_selection\\_split.py:1978: FutureWarning: The default value of cv will change from 3 to 5 in version 0.22. Specify it explicitly to silence this warning.\n",
      "  warnings.warn(CV_WARNING, FutureWarning)\n",
      "[Parallel(n_jobs=1)]: Using backend SequentialBackend with 1 concurrent workers.\n",
      "[Parallel(n_jobs=1)]: Done   1 out of   1 | elapsed:    0.0s remaining:    0.0s\n",
      "[Parallel(n_jobs=1)]: Done   2 out of   2 | elapsed:    0.0s remaining:    0.0s\n"
     ]
    },
    {
     "name": "stdout",
     "output_type": "stream",
     "text": [
      "Fitting 3 folds for each of 65 candidates, totalling 195 fits\n",
      "[CV] C=0.1, gamma=1 ..................................................\n",
      "[CV] ...................... C=0.1, gamma=1, score=0.613, total=   0.0s\n",
      "[CV] C=0.1, gamma=1 ..................................................\n",
      "[CV] ...................... C=0.1, gamma=1, score=0.613, total=   0.0s\n",
      "[CV] C=0.1, gamma=1 ..................................................\n",
      "[CV] ...................... C=0.1, gamma=1, score=0.613, total=   0.0s\n",
      "[CV] C=0.1, gamma=0.1 ................................................\n",
      "[CV] .................... C=0.1, gamma=0.1, score=0.613, total=   0.0s\n",
      "[CV] C=0.1, gamma=0.1 ................................................\n",
      "[CV] .................... C=0.1, gamma=0.1, score=0.613, total=   0.0s\n",
      "[CV] C=0.1, gamma=0.1 ................................................\n",
      "[CV] .................... C=0.1, gamma=0.1, score=0.613, total=   0.0s\n",
      "[CV] C=0.1, gamma=0.001 ..............................................\n",
      "[CV] .................. C=0.1, gamma=0.001, score=0.613, total=   0.0s\n",
      "[CV] C=0.1, gamma=0.001 ..............................................\n",
      "[CV] .................. C=0.1, gamma=0.001, score=0.613, total=   0.0s\n",
      "[CV] C=0.1, gamma=0.001 ..............................................\n",
      "[CV] .................. C=0.1, gamma=0.001, score=0.613, total=   0.0s\n",
      "[CV] C=0.1, gamma=0.0001 .............................................\n",
      "[CV] ................. C=0.1, gamma=0.0001, score=0.613, total=   0.0s\n",
      "[CV] C=0.1, gamma=0.0001 .............................................\n",
      "[CV] ................. C=0.1, gamma=0.0001, score=0.613, total=   0.0s\n",
      "[CV] C=0.1, gamma=0.0001 .............................................\n",
      "[CV] ................. C=0.1, gamma=0.0001, score=0.613, total=   0.0s\n",
      "[CV] C=0.1, gamma=1e-05 ..............................................\n",
      "[CV] .................. C=0.1, gamma=1e-05, score=0.613, total=   0.0s\n",
      "[CV] C=0.1, gamma=1e-05 ..............................................\n",
      "[CV] .................. C=0.1, gamma=1e-05, score=0.613, total=   0.0s\n",
      "[CV] C=0.1, gamma=1e-05 ..............................................\n",
      "[CV] .................. C=0.1, gamma=1e-05, score=0.613, total=   0.0s\n",
      "[CV] C=1, gamma=1 ....................................................\n",
      "[CV] ........................ C=1, gamma=1, score=0.613, total=   0.0s\n",
      "[CV] C=1, gamma=1 ....................................................\n",
      "[CV] ........................ C=1, gamma=1, score=0.600, total=   0.0s\n",
      "[CV] C=1, gamma=1 ....................................................\n",
      "[CV] ........................ C=1, gamma=1, score=0.600, total=   0.0s\n",
      "[CV] C=1, gamma=0.1 ..................................................\n",
      "[CV] ...................... C=1, gamma=0.1, score=0.588, total=   0.0s\n",
      "[CV] C=1, gamma=0.1 ..................................................\n",
      "[CV] ...................... C=1, gamma=0.1, score=0.613, total=   0.0s\n",
      "[CV] C=1, gamma=0.1 ..................................................\n",
      "[CV] ...................... C=1, gamma=0.1, score=0.613, total=   0.0s\n",
      "[CV] C=1, gamma=0.001 ................................................\n",
      "[CV] .................... C=1, gamma=0.001, score=0.613, total=   0.0s\n",
      "[CV] C=1, gamma=0.001 ................................................\n",
      "[CV] .................... C=1, gamma=0.001, score=0.613, total=   0.0s\n",
      "[CV] C=1, gamma=0.001 ................................................\n",
      "[CV] .................... C=1, gamma=0.001, score=0.613, total=   0.0s\n",
      "[CV] C=1, gamma=0.0001 ...............................................\n",
      "[CV] ................... C=1, gamma=0.0001, score=0.613, total=   0.0s\n",
      "[CV] C=1, gamma=0.0001 ...............................................\n",
      "[CV] ................... C=1, gamma=0.0001, score=0.613, total=   0.0s\n",
      "[CV] C=1, gamma=0.0001 ...............................................\n",
      "[CV] ................... C=1, gamma=0.0001, score=0.613, total=   0.0s\n",
      "[CV] C=1, gamma=1e-05 ................................................\n",
      "[CV] .................... C=1, gamma=1e-05, score=0.613, total=   0.0s\n",
      "[CV] C=1, gamma=1e-05 ................................................\n",
      "[CV] .................... C=1, gamma=1e-05, score=0.613, total=   0.0s\n",
      "[CV] C=1, gamma=1e-05 ................................................\n",
      "[CV] .................... C=1, gamma=1e-05, score=0.613, total=   0.0s\n",
      "[CV] C=10, gamma=1 ...................................................\n",
      "[CV] ....................... C=10, gamma=1, score=0.562, total=   0.0s\n",
      "[CV] C=10, gamma=1 ...................................................\n",
      "[CV] ....................... C=10, gamma=1, score=0.562, total=   0.0s\n",
      "[CV] C=10, gamma=1 ...................................................\n",
      "[CV] ....................... C=10, gamma=1, score=0.562, total=   0.0s\n",
      "[CV] C=10, gamma=0.1 .................................................\n",
      "[CV] ..................... C=10, gamma=0.1, score=0.550, total=   0.0s\n",
      "[CV] C=10, gamma=0.1 .................................................\n",
      "[CV] ..................... C=10, gamma=0.1, score=0.525, total=   0.0s\n",
      "[CV] C=10, gamma=0.1 .................................................\n",
      "[CV] ..................... C=10, gamma=0.1, score=0.475, total=   0.0s\n",
      "[CV] C=10, gamma=0.001 ...............................................\n",
      "[CV] ................... C=10, gamma=0.001, score=0.613, total=   0.0s\n",
      "[CV] C=10, gamma=0.001 ...............................................\n",
      "[CV] ................... C=10, gamma=0.001, score=0.613, total=   0.0s\n",
      "[CV] C=10, gamma=0.001 ...............................................\n",
      "[CV] ................... C=10, gamma=0.001, score=0.613, total=   0.0s\n",
      "[CV] C=10, gamma=0.0001 ..............................................\n",
      "[CV] .................. C=10, gamma=0.0001, score=0.613, total=   0.0s\n",
      "[CV] C=10, gamma=0.0001 ..............................................\n",
      "[CV] .................. C=10, gamma=0.0001, score=0.613, total=   0.0s\n",
      "[CV] C=10, gamma=0.0001 ..............................................\n",
      "[CV] .................. C=10, gamma=0.0001, score=0.613, total=   0.0s\n",
      "[CV] C=10, gamma=1e-05 ...............................................\n",
      "[CV] ................... C=10, gamma=1e-05, score=0.613, total=   0.0s\n",
      "[CV] C=10, gamma=1e-05 ...............................................\n",
      "[CV] ................... C=10, gamma=1e-05, score=0.613, total=   0.0s\n",
      "[CV] C=10, gamma=1e-05 ...............................................\n",
      "[CV] ................... C=10, gamma=1e-05, score=0.613, total=   0.0s\n",
      "[CV] C=100, gamma=1 ..................................................\n",
      "[CV] ...................... C=100, gamma=1, score=0.562, total=   0.0s\n",
      "[CV] C=100, gamma=1 ..................................................\n",
      "[CV] ...................... C=100, gamma=1, score=0.562, total=   0.0s\n",
      "[CV] C=100, gamma=1 ..................................................\n",
      "[CV] ...................... C=100, gamma=1, score=0.562, total=   0.0s\n",
      "[CV] C=100, gamma=0.1 ................................................\n",
      "[CV] .................... C=100, gamma=0.1, score=0.550, total=   0.0s\n",
      "[CV] C=100, gamma=0.1 ................................................\n",
      "[CV] .................... C=100, gamma=0.1, score=0.487, total=   0.0s\n",
      "[CV] C=100, gamma=0.1 ................................................\n",
      "[CV] .................... C=100, gamma=0.1, score=0.450, total=   0.0s\n",
      "[CV] C=100, gamma=0.001 ..............................................\n",
      "[CV] .................. C=100, gamma=0.001, score=0.600, total=   0.0s\n",
      "[CV] C=100, gamma=0.001 ..............................................\n",
      "[CV] .................. C=100, gamma=0.001, score=0.613, total=   0.0s\n",
      "[CV] C=100, gamma=0.001 ..............................................\n",
      "[CV] .................. C=100, gamma=0.001, score=0.600, total=   0.0s\n",
      "[CV] C=100, gamma=0.0001 .............................................\n",
      "[CV] ................. C=100, gamma=0.0001, score=0.613, total=   0.0s\n",
      "[CV] C=100, gamma=0.0001 .............................................\n",
      "[CV] ................. C=100, gamma=0.0001, score=0.613, total=   0.0s\n",
      "[CV] C=100, gamma=0.0001 .............................................\n",
      "[CV] ................. C=100, gamma=0.0001, score=0.613, total=   0.0s\n",
      "[CV] C=100, gamma=1e-05 ..............................................\n",
      "[CV] .................. C=100, gamma=1e-05, score=0.613, total=   0.0s\n",
      "[CV] C=100, gamma=1e-05 ..............................................\n",
      "[CV] .................. C=100, gamma=1e-05, score=0.613, total=   0.0s\n",
      "[CV] C=100, gamma=1e-05 ..............................................\n",
      "[CV] .................. C=100, gamma=1e-05, score=0.613, total=   0.0s\n",
      "[CV] C=200, gamma=1 ..................................................\n",
      "[CV] ...................... C=200, gamma=1, score=0.562, total=   0.0s\n",
      "[CV] C=200, gamma=1 ..................................................\n",
      "[CV] ...................... C=200, gamma=1, score=0.562, total=   0.0s\n",
      "[CV] C=200, gamma=1 ..................................................\n",
      "[CV] ...................... C=200, gamma=1, score=0.562, total=   0.0s\n",
      "[CV] C=200, gamma=0.1 ................................................\n",
      "[CV] .................... C=200, gamma=0.1, score=0.550, total=   0.0s\n",
      "[CV] C=200, gamma=0.1 ................................................\n",
      "[CV] .................... C=200, gamma=0.1, score=0.487, total=   0.0s\n",
      "[CV] C=200, gamma=0.1 ................................................\n"
     ]
    },
    {
     "name": "stdout",
     "output_type": "stream",
     "text": [
      "[CV] .................... C=200, gamma=0.1, score=0.450, total=   0.0s\n",
      "[CV] C=200, gamma=0.001 ..............................................\n",
      "[CV] .................. C=200, gamma=0.001, score=0.650, total=   0.0s\n",
      "[CV] C=200, gamma=0.001 ..............................................\n",
      "[CV] .................. C=200, gamma=0.001, score=0.575, total=   0.0s\n",
      "[CV] C=200, gamma=0.001 ..............................................\n",
      "[CV] .................. C=200, gamma=0.001, score=0.625, total=   0.0s\n",
      "[CV] C=200, gamma=0.0001 .............................................\n",
      "[CV] ................. C=200, gamma=0.0001, score=0.613, total=   0.0s\n",
      "[CV] C=200, gamma=0.0001 .............................................\n",
      "[CV] ................. C=200, gamma=0.0001, score=0.613, total=   0.0s\n",
      "[CV] C=200, gamma=0.0001 .............................................\n",
      "[CV] ................. C=200, gamma=0.0001, score=0.613, total=   0.0s\n",
      "[CV] C=200, gamma=1e-05 ..............................................\n",
      "[CV] .................. C=200, gamma=1e-05, score=0.613, total=   0.0s\n",
      "[CV] C=200, gamma=1e-05 ..............................................\n",
      "[CV] .................. C=200, gamma=1e-05, score=0.613, total=   0.0s\n",
      "[CV] C=200, gamma=1e-05 ..............................................\n",
      "[CV] .................. C=200, gamma=1e-05, score=0.613, total=   0.0s\n",
      "[CV] C=300, gamma=1 ..................................................\n",
      "[CV] ...................... C=300, gamma=1, score=0.562, total=   0.0s\n",
      "[CV] C=300, gamma=1 ..................................................\n",
      "[CV] ...................... C=300, gamma=1, score=0.562, total=   0.0s\n",
      "[CV] C=300, gamma=1 ..................................................\n",
      "[CV] ...................... C=300, gamma=1, score=0.562, total=   0.0s\n",
      "[CV] C=300, gamma=0.1 ................................................\n",
      "[CV] .................... C=300, gamma=0.1, score=0.550, total=   0.0s\n",
      "[CV] C=300, gamma=0.1 ................................................\n",
      "[CV] .................... C=300, gamma=0.1, score=0.487, total=   0.0s\n",
      "[CV] C=300, gamma=0.1 ................................................\n",
      "[CV] .................... C=300, gamma=0.1, score=0.450, total=   0.0s\n",
      "[CV] C=300, gamma=0.001 ..............................................\n",
      "[CV] .................. C=300, gamma=0.001, score=0.625, total=   0.0s\n",
      "[CV] C=300, gamma=0.001 ..............................................\n",
      "[CV] .................. C=300, gamma=0.001, score=0.562, total=   0.0s\n",
      "[CV] C=300, gamma=0.001 ..............................................\n",
      "[CV] .................. C=300, gamma=0.001, score=0.613, total=   0.0s\n",
      "[CV] C=300, gamma=0.0001 .............................................\n",
      "[CV] ................. C=300, gamma=0.0001, score=0.613, total=   0.0s\n",
      "[CV] C=300, gamma=0.0001 .............................................\n",
      "[CV] ................. C=300, gamma=0.0001, score=0.613, total=   0.0s\n",
      "[CV] C=300, gamma=0.0001 .............................................\n",
      "[CV] ................. C=300, gamma=0.0001, score=0.613, total=   0.0s\n",
      "[CV] C=300, gamma=1e-05 ..............................................\n",
      "[CV] .................. C=300, gamma=1e-05, score=0.613, total=   0.0s\n",
      "[CV] C=300, gamma=1e-05 ..............................................\n",
      "[CV] .................. C=300, gamma=1e-05, score=0.613, total=   0.0s\n",
      "[CV] C=300, gamma=1e-05 ..............................................\n",
      "[CV] .................. C=300, gamma=1e-05, score=0.613, total=   0.0s\n",
      "[CV] C=400, gamma=1 ..................................................\n",
      "[CV] ...................... C=400, gamma=1, score=0.562, total=   0.0s\n",
      "[CV] C=400, gamma=1 ..................................................\n",
      "[CV] ...................... C=400, gamma=1, score=0.562, total=   0.0s\n",
      "[CV] C=400, gamma=1 ..................................................\n",
      "[CV] ...................... C=400, gamma=1, score=0.562, total=   0.0s\n",
      "[CV] C=400, gamma=0.1 ................................................\n",
      "[CV] .................... C=400, gamma=0.1, score=0.550, total=   0.0s\n",
      "[CV] C=400, gamma=0.1 ................................................\n",
      "[CV] .................... C=400, gamma=0.1, score=0.487, total=   0.0s\n",
      "[CV] C=400, gamma=0.1 ................................................\n",
      "[CV] .................... C=400, gamma=0.1, score=0.450, total=   0.0s\n",
      "[CV] C=400, gamma=0.001 ..............................................\n",
      "[CV] .................. C=400, gamma=0.001, score=0.613, total=   0.0s\n",
      "[CV] C=400, gamma=0.001 ..............................................\n",
      "[CV] .................. C=400, gamma=0.001, score=0.600, total=   0.0s\n",
      "[CV] C=400, gamma=0.001 ..............................................\n",
      "[CV] .................. C=400, gamma=0.001, score=0.625, total=   0.0s\n",
      "[CV] C=400, gamma=0.0001 .............................................\n",
      "[CV] ................. C=400, gamma=0.0001, score=0.613, total=   0.0s\n",
      "[CV] C=400, gamma=0.0001 .............................................\n",
      "[CV] ................. C=400, gamma=0.0001, score=0.613, total=   0.0s\n",
      "[CV] C=400, gamma=0.0001 .............................................\n",
      "[CV] ................. C=400, gamma=0.0001, score=0.613, total=   0.0s\n",
      "[CV] C=400, gamma=1e-05 ..............................................\n",
      "[CV] .................. C=400, gamma=1e-05, score=0.613, total=   0.0s\n",
      "[CV] C=400, gamma=1e-05 ..............................................\n",
      "[CV] .................. C=400, gamma=1e-05, score=0.613, total=   0.0s\n",
      "[CV] C=400, gamma=1e-05 ..............................................\n",
      "[CV] .................. C=400, gamma=1e-05, score=0.613, total=   0.0s\n",
      "[CV] C=600, gamma=1 ..................................................\n",
      "[CV] ...................... C=600, gamma=1, score=0.562, total=   0.0s\n",
      "[CV] C=600, gamma=1 ..................................................\n",
      "[CV] ...................... C=600, gamma=1, score=0.562, total=   0.0s\n",
      "[CV] C=600, gamma=1 ..................................................\n",
      "[CV] ...................... C=600, gamma=1, score=0.562, total=   0.0s\n",
      "[CV] C=600, gamma=0.1 ................................................\n",
      "[CV] .................... C=600, gamma=0.1, score=0.550, total=   0.0s\n",
      "[CV] C=600, gamma=0.1 ................................................\n",
      "[CV] .................... C=600, gamma=0.1, score=0.487, total=   0.0s\n",
      "[CV] C=600, gamma=0.1 ................................................\n",
      "[CV] .................... C=600, gamma=0.1, score=0.450, total=   0.0s\n",
      "[CV] C=600, gamma=0.001 ..............................................\n",
      "[CV] .................. C=600, gamma=0.001, score=0.650, total=   0.0s\n",
      "[CV] C=600, gamma=0.001 ..............................................\n",
      "[CV] .................. C=600, gamma=0.001, score=0.562, total=   0.0s\n",
      "[CV] C=600, gamma=0.001 ..............................................\n",
      "[CV] .................. C=600, gamma=0.001, score=0.637, total=   0.0s\n",
      "[CV] C=600, gamma=0.0001 .............................................\n",
      "[CV] ................. C=600, gamma=0.0001, score=0.613, total=   0.0s\n",
      "[CV] C=600, gamma=0.0001 .............................................\n",
      "[CV] ................. C=600, gamma=0.0001, score=0.613, total=   0.0s\n",
      "[CV] C=600, gamma=0.0001 .............................................\n",
      "[CV] ................. C=600, gamma=0.0001, score=0.613, total=   0.0s\n",
      "[CV] C=600, gamma=1e-05 ..............................................\n",
      "[CV] .................. C=600, gamma=1e-05, score=0.613, total=   0.0s\n",
      "[CV] C=600, gamma=1e-05 ..............................................\n",
      "[CV] .................. C=600, gamma=1e-05, score=0.613, total=   0.0s\n",
      "[CV] C=600, gamma=1e-05 ..............................................\n",
      "[CV] .................. C=600, gamma=1e-05, score=0.613, total=   0.0s\n",
      "[CV] C=500, gamma=1 ..................................................\n",
      "[CV] ...................... C=500, gamma=1, score=0.562, total=   0.0s\n",
      "[CV] C=500, gamma=1 ..................................................\n",
      "[CV] ...................... C=500, gamma=1, score=0.562, total=   0.0s\n",
      "[CV] C=500, gamma=1 ..................................................\n",
      "[CV] ...................... C=500, gamma=1, score=0.562, total=   0.0s\n",
      "[CV] C=500, gamma=0.1 ................................................\n",
      "[CV] .................... C=500, gamma=0.1, score=0.550, total=   0.0s\n",
      "[CV] C=500, gamma=0.1 ................................................\n",
      "[CV] .................... C=500, gamma=0.1, score=0.487, total=   0.0s\n",
      "[CV] C=500, gamma=0.1 ................................................\n",
      "[CV] .................... C=500, gamma=0.1, score=0.450, total=   0.0s\n",
      "[CV] C=500, gamma=0.001 ..............................................\n",
      "[CV] .................. C=500, gamma=0.001, score=0.625, total=   0.0s\n",
      "[CV] C=500, gamma=0.001 ..............................................\n",
      "[CV] .................. C=500, gamma=0.001, score=0.588, total=   0.0s\n",
      "[CV] C=500, gamma=0.001 ..............................................\n",
      "[CV] .................. C=500, gamma=0.001, score=0.650, total=   0.0s\n",
      "[CV] C=500, gamma=0.0001 .............................................\n"
     ]
    },
    {
     "name": "stdout",
     "output_type": "stream",
     "text": [
      "[CV] ................. C=500, gamma=0.0001, score=0.613, total=   0.0s\n",
      "[CV] C=500, gamma=0.0001 .............................................\n",
      "[CV] ................. C=500, gamma=0.0001, score=0.613, total=   0.0s\n",
      "[CV] C=500, gamma=0.0001 .............................................\n",
      "[CV] ................. C=500, gamma=0.0001, score=0.613, total=   0.0s\n",
      "[CV] C=500, gamma=1e-05 ..............................................\n",
      "[CV] .................. C=500, gamma=1e-05, score=0.613, total=   0.0s\n",
      "[CV] C=500, gamma=1e-05 ..............................................\n",
      "[CV] .................. C=500, gamma=1e-05, score=0.613, total=   0.0s\n",
      "[CV] C=500, gamma=1e-05 ..............................................\n",
      "[CV] .................. C=500, gamma=1e-05, score=0.613, total=   0.0s\n",
      "[CV] C=700, gamma=1 ..................................................\n",
      "[CV] ...................... C=700, gamma=1, score=0.562, total=   0.0s\n",
      "[CV] C=700, gamma=1 ..................................................\n",
      "[CV] ...................... C=700, gamma=1, score=0.562, total=   0.0s\n",
      "[CV] C=700, gamma=1 ..................................................\n",
      "[CV] ...................... C=700, gamma=1, score=0.562, total=   0.0s\n",
      "[CV] C=700, gamma=0.1 ................................................\n",
      "[CV] .................... C=700, gamma=0.1, score=0.550, total=   0.0s\n",
      "[CV] C=700, gamma=0.1 ................................................\n",
      "[CV] .................... C=700, gamma=0.1, score=0.487, total=   0.0s\n",
      "[CV] C=700, gamma=0.1 ................................................\n",
      "[CV] .................... C=700, gamma=0.1, score=0.450, total=   0.0s\n",
      "[CV] C=700, gamma=0.001 ..............................................\n",
      "[CV] .................. C=700, gamma=0.001, score=0.662, total=   0.0s\n",
      "[CV] C=700, gamma=0.001 ..............................................\n",
      "[CV] .................. C=700, gamma=0.001, score=0.562, total=   0.0s\n",
      "[CV] C=700, gamma=0.001 ..............................................\n",
      "[CV] .................. C=700, gamma=0.001, score=0.600, total=   0.0s\n",
      "[CV] C=700, gamma=0.0001 .............................................\n",
      "[CV] ................. C=700, gamma=0.0001, score=0.613, total=   0.0s\n",
      "[CV] C=700, gamma=0.0001 .............................................\n",
      "[CV] ................. C=700, gamma=0.0001, score=0.613, total=   0.0s\n",
      "[CV] C=700, gamma=0.0001 .............................................\n",
      "[CV] ................. C=700, gamma=0.0001, score=0.613, total=   0.0s\n",
      "[CV] C=700, gamma=1e-05 ..............................................\n",
      "[CV] .................. C=700, gamma=1e-05, score=0.613, total=   0.0s\n",
      "[CV] C=700, gamma=1e-05 ..............................................\n",
      "[CV] .................. C=700, gamma=1e-05, score=0.613, total=   0.0s\n",
      "[CV] C=700, gamma=1e-05 ..............................................\n",
      "[CV] .................. C=700, gamma=1e-05, score=0.613, total=   0.0s\n",
      "[CV] C=800, gamma=1 ..................................................\n",
      "[CV] ...................... C=800, gamma=1, score=0.562, total=   0.0s\n",
      "[CV] C=800, gamma=1 ..................................................\n",
      "[CV] ...................... C=800, gamma=1, score=0.562, total=   0.0s\n",
      "[CV] C=800, gamma=1 ..................................................\n",
      "[CV] ...................... C=800, gamma=1, score=0.562, total=   0.0s\n",
      "[CV] C=800, gamma=0.1 ................................................\n",
      "[CV] .................... C=800, gamma=0.1, score=0.550, total=   0.0s\n",
      "[CV] C=800, gamma=0.1 ................................................\n",
      "[CV] .................... C=800, gamma=0.1, score=0.487, total=   0.0s\n",
      "[CV] C=800, gamma=0.1 ................................................\n",
      "[CV] .................... C=800, gamma=0.1, score=0.450, total=   0.0s\n",
      "[CV] C=800, gamma=0.001 ..............................................\n",
      "[CV] .................. C=800, gamma=0.001, score=0.662, total=   0.0s\n",
      "[CV] C=800, gamma=0.001 ..............................................\n",
      "[CV] .................. C=800, gamma=0.001, score=0.575, total=   0.0s\n",
      "[CV] C=800, gamma=0.001 ..............................................\n",
      "[CV] .................. C=800, gamma=0.001, score=0.637, total=   0.0s\n",
      "[CV] C=800, gamma=0.0001 .............................................\n",
      "[CV] ................. C=800, gamma=0.0001, score=0.613, total=   0.0s\n",
      "[CV] C=800, gamma=0.0001 .............................................\n",
      "[CV] ................. C=800, gamma=0.0001, score=0.613, total=   0.0s\n",
      "[CV] C=800, gamma=0.0001 .............................................\n",
      "[CV] ................. C=800, gamma=0.0001, score=0.613, total=   0.0s\n",
      "[CV] C=800, gamma=1e-05 ..............................................\n",
      "[CV] .................. C=800, gamma=1e-05, score=0.613, total=   0.0s\n",
      "[CV] C=800, gamma=1e-05 ..............................................\n",
      "[CV] .................. C=800, gamma=1e-05, score=0.613, total=   0.0s\n",
      "[CV] C=800, gamma=1e-05 ..............................................\n",
      "[CV] .................. C=800, gamma=1e-05, score=0.613, total=   0.0s\n",
      "[CV] C=900, gamma=1 ..................................................\n",
      "[CV] ...................... C=900, gamma=1, score=0.562, total=   0.0s\n",
      "[CV] C=900, gamma=1 ..................................................\n",
      "[CV] ...................... C=900, gamma=1, score=0.562, total=   0.0s\n",
      "[CV] C=900, gamma=1 ..................................................\n",
      "[CV] ...................... C=900, gamma=1, score=0.562, total=   0.0s\n",
      "[CV] C=900, gamma=0.1 ................................................\n",
      "[CV] .................... C=900, gamma=0.1, score=0.550, total=   0.0s\n",
      "[CV] C=900, gamma=0.1 ................................................\n",
      "[CV] .................... C=900, gamma=0.1, score=0.487, total=   0.0s\n",
      "[CV] C=900, gamma=0.1 ................................................\n",
      "[CV] .................... C=900, gamma=0.1, score=0.450, total=   0.0s\n",
      "[CV] C=900, gamma=0.001 ..............................................\n",
      "[CV] .................. C=900, gamma=0.001, score=0.650, total=   0.0s\n",
      "[CV] C=900, gamma=0.001 ..............................................\n",
      "[CV] .................. C=900, gamma=0.001, score=0.562, total=   0.0s\n",
      "[CV] C=900, gamma=0.001 ..............................................\n",
      "[CV] .................. C=900, gamma=0.001, score=0.637, total=   0.0s\n",
      "[CV] C=900, gamma=0.0001 .............................................\n",
      "[CV] ................. C=900, gamma=0.0001, score=0.613, total=   0.0s\n",
      "[CV] C=900, gamma=0.0001 .............................................\n",
      "[CV] ................. C=900, gamma=0.0001, score=0.613, total=   0.0s\n",
      "[CV] C=900, gamma=0.0001 .............................................\n",
      "[CV] ................. C=900, gamma=0.0001, score=0.613, total=   0.0s\n",
      "[CV] C=900, gamma=1e-05 ..............................................\n",
      "[CV] .................. C=900, gamma=1e-05, score=0.613, total=   0.0s\n",
      "[CV] C=900, gamma=1e-05 ..............................................\n",
      "[CV] .................. C=900, gamma=1e-05, score=0.613, total=   0.0s\n",
      "[CV] C=900, gamma=1e-05 ..............................................\n",
      "[CV] .................. C=900, gamma=1e-05, score=0.613, total=   0.0s\n",
      "[CV] C=1000, gamma=1 .................................................\n",
      "[CV] ..................... C=1000, gamma=1, score=0.562, total=   0.0s\n",
      "[CV] C=1000, gamma=1 .................................................\n",
      "[CV] ..................... C=1000, gamma=1, score=0.562, total=   0.0s\n",
      "[CV] C=1000, gamma=1 .................................................\n",
      "[CV] ..................... C=1000, gamma=1, score=0.562, total=   0.0s\n",
      "[CV] C=1000, gamma=0.1 ...............................................\n",
      "[CV] ................... C=1000, gamma=0.1, score=0.550, total=   0.0s\n",
      "[CV] C=1000, gamma=0.1 ...............................................\n",
      "[CV] ................... C=1000, gamma=0.1, score=0.487, total=   0.0s\n",
      "[CV] C=1000, gamma=0.1 ...............................................\n",
      "[CV] ................... C=1000, gamma=0.1, score=0.450, total=   0.0s\n",
      "[CV] C=1000, gamma=0.001 .............................................\n",
      "[CV] ................. C=1000, gamma=0.001, score=0.650, total=   0.0s\n",
      "[CV] C=1000, gamma=0.001 .............................................\n",
      "[CV] ................. C=1000, gamma=0.001, score=0.550, total=   0.0s\n",
      "[CV] C=1000, gamma=0.001 .............................................\n",
      "[CV] ................. C=1000, gamma=0.001, score=0.625, total=   0.0s\n",
      "[CV] C=1000, gamma=0.0001 ............................................\n",
      "[CV] ................ C=1000, gamma=0.0001, score=0.600, total=   0.0s\n",
      "[CV] C=1000, gamma=0.0001 ............................................\n",
      "[CV] ................ C=1000, gamma=0.0001, score=0.613, total=   0.0s\n",
      "[CV] C=1000, gamma=0.0001 ............................................\n",
      "[CV] ................ C=1000, gamma=0.0001, score=0.613, total=   0.0s\n",
      "[CV] C=1000, gamma=1e-05 .............................................\n",
      "[CV] ................. C=1000, gamma=1e-05, score=0.613, total=   0.0s\n",
      "[CV] C=1000, gamma=1e-05 .............................................\n",
      "[CV] ................. C=1000, gamma=1e-05, score=0.613, total=   0.0s\n",
      "[CV] C=1000, gamma=1e-05 .............................................\n",
      "[CV] ................. C=1000, gamma=1e-05, score=0.613, total=   0.0s\n"
     ]
    },
    {
     "name": "stderr",
     "output_type": "stream",
     "text": [
      "[Parallel(n_jobs=1)]: Done 195 out of 195 | elapsed:    2.9s finished\n"
     ]
    },
    {
     "data": {
      "text/plain": [
       "GridSearchCV(cv='warn', error_score='raise-deprecating',\n",
       "             estimator=SVC(C=1.0, cache_size=200, class_weight=None, coef0=0.0,\n",
       "                           decision_function_shape='ovr', degree=3,\n",
       "                           gamma='auto_deprecated', kernel='rbf', max_iter=-1,\n",
       "                           probability=False, random_state=None, shrinking=True,\n",
       "                           tol=0.001, verbose=False),\n",
       "             iid='warn', n_jobs=None,\n",
       "             param_grid={'C': [0.1, 1, 10, 100, 200, 300, 400, 600, 500, 700,\n",
       "                               800, 900, 1000],\n",
       "                         'gamma': [1, 0.1, 0.001, 0.0001, 1e-05]},\n",
       "             pre_dispatch='2*n_jobs', refit=True, return_train_score=False,\n",
       "             scoring=None, verbose=3)"
      ]
     },
     "execution_count": 307,
     "metadata": {},
     "output_type": "execute_result"
    }
   ],
   "source": [
    "grid = GridSearchCV(SVC(),param_grid,verbose=3,refit=True)\n",
    "grid.fit(X_train,y_train)"
   ]
  },
  {
   "cell_type": "code",
   "execution_count": 308,
   "metadata": {},
   "outputs": [
    {
     "data": {
      "text/plain": [
       "{'C': 800, 'gamma': 0.001}"
      ]
     },
     "execution_count": 308,
     "metadata": {},
     "output_type": "execute_result"
    }
   ],
   "source": [
    "grid.best_params_"
   ]
  },
  {
   "cell_type": "code",
   "execution_count": 309,
   "metadata": {},
   "outputs": [],
   "source": [
    "gridpre = grid.predict(X_test)"
   ]
  },
  {
   "cell_type": "code",
   "execution_count": 310,
   "metadata": {},
   "outputs": [
    {
     "name": "stdout",
     "output_type": "stream",
     "text": [
      "              precision    recall  f1-score   support\n",
      "\n",
      "           0       0.60      0.26      0.36        23\n",
      "           1       0.66      0.89      0.76        37\n",
      "\n",
      "    accuracy                           0.65        60\n",
      "   macro avg       0.63      0.58      0.56        60\n",
      "weighted avg       0.64      0.65      0.61        60\n",
      "\n",
      "[[ 6 17]\n",
      " [ 4 33]]\n"
     ]
    }
   ],
   "source": [
    "print(classification_report(y_test,gridpre))\n",
    "print(confusion_matrix(y_test,gridpre))"
   ]
  },
  {
   "cell_type": "code",
   "execution_count": null,
   "metadata": {},
   "outputs": [],
   "source": []
  },
  {
   "cell_type": "code",
   "execution_count": 314,
   "metadata": {},
   "outputs": [
    {
     "name": "stderr",
     "output_type": "stream",
     "text": [
      "C:\\Users\\AB Duke\\Anaconda4\\lib\\site-packages\\sklearn\\utils\\validation.py:724: DataConversionWarning: A column-vector y was passed when a 1d array was expected. Please change the shape of y to (n_samples, ), for example using ravel().\n",
      "  y = column_or_1d(y, warn=True)\n",
      "C:\\Users\\AB Duke\\Anaconda4\\lib\\site-packages\\sklearn\\utils\\validation.py:724: DataConversionWarning: A column-vector y was passed when a 1d array was expected. Please change the shape of y to (n_samples, ), for example using ravel().\n",
      "  y = column_or_1d(y, warn=True)\n",
      "C:\\Users\\AB Duke\\Anaconda4\\lib\\site-packages\\sklearn\\utils\\validation.py:724: DataConversionWarning: A column-vector y was passed when a 1d array was expected. Please change the shape of y to (n_samples, ), for example using ravel().\n",
      "  y = column_or_1d(y, warn=True)\n",
      "C:\\Users\\AB Duke\\Anaconda4\\lib\\site-packages\\sklearn\\utils\\validation.py:724: DataConversionWarning: A column-vector y was passed when a 1d array was expected. Please change the shape of y to (n_samples, ), for example using ravel().\n",
      "  y = column_or_1d(y, warn=True)\n",
      "C:\\Users\\AB Duke\\Anaconda4\\lib\\site-packages\\sklearn\\utils\\validation.py:724: DataConversionWarning: A column-vector y was passed when a 1d array was expected. Please change the shape of y to (n_samples, ), for example using ravel().\n",
      "  y = column_or_1d(y, warn=True)\n",
      "C:\\Users\\AB Duke\\Anaconda4\\lib\\site-packages\\sklearn\\utils\\validation.py:724: DataConversionWarning: A column-vector y was passed when a 1d array was expected. Please change the shape of y to (n_samples, ), for example using ravel().\n",
      "  y = column_or_1d(y, warn=True)\n",
      "C:\\Users\\AB Duke\\Anaconda4\\lib\\site-packages\\sklearn\\utils\\validation.py:724: DataConversionWarning: A column-vector y was passed when a 1d array was expected. Please change the shape of y to (n_samples, ), for example using ravel().\n",
      "  y = column_or_1d(y, warn=True)\n",
      "C:\\Users\\AB Duke\\Anaconda4\\lib\\site-packages\\sklearn\\utils\\validation.py:724: DataConversionWarning: A column-vector y was passed when a 1d array was expected. Please change the shape of y to (n_samples, ), for example using ravel().\n",
      "  y = column_or_1d(y, warn=True)\n",
      "C:\\Users\\AB Duke\\Anaconda4\\lib\\site-packages\\sklearn\\utils\\validation.py:724: DataConversionWarning: A column-vector y was passed when a 1d array was expected. Please change the shape of y to (n_samples, ), for example using ravel().\n",
      "  y = column_or_1d(y, warn=True)\n",
      "C:\\Users\\AB Duke\\Anaconda4\\lib\\site-packages\\sklearn\\utils\\validation.py:724: DataConversionWarning: A column-vector y was passed when a 1d array was expected. Please change the shape of y to (n_samples, ), for example using ravel().\n",
      "  y = column_or_1d(y, warn=True)\n",
      "C:\\Users\\AB Duke\\Anaconda4\\lib\\site-packages\\sklearn\\utils\\validation.py:724: DataConversionWarning: A column-vector y was passed when a 1d array was expected. Please change the shape of y to (n_samples, ), for example using ravel().\n",
      "  y = column_or_1d(y, warn=True)\n",
      "C:\\Users\\AB Duke\\Anaconda4\\lib\\site-packages\\sklearn\\utils\\validation.py:724: DataConversionWarning: A column-vector y was passed when a 1d array was expected. Please change the shape of y to (n_samples, ), for example using ravel().\n",
      "  y = column_or_1d(y, warn=True)\n",
      "C:\\Users\\AB Duke\\Anaconda4\\lib\\site-packages\\sklearn\\utils\\validation.py:724: DataConversionWarning: A column-vector y was passed when a 1d array was expected. Please change the shape of y to (n_samples, ), for example using ravel().\n",
      "  y = column_or_1d(y, warn=True)\n",
      "C:\\Users\\AB Duke\\Anaconda4\\lib\\site-packages\\sklearn\\utils\\validation.py:724: DataConversionWarning: A column-vector y was passed when a 1d array was expected. Please change the shape of y to (n_samples, ), for example using ravel().\n",
      "  y = column_or_1d(y, warn=True)\n",
      "C:\\Users\\AB Duke\\Anaconda4\\lib\\site-packages\\sklearn\\utils\\validation.py:724: DataConversionWarning: A column-vector y was passed when a 1d array was expected. Please change the shape of y to (n_samples, ), for example using ravel().\n",
      "  y = column_or_1d(y, warn=True)\n",
      "C:\\Users\\AB Duke\\Anaconda4\\lib\\site-packages\\sklearn\\utils\\validation.py:724: DataConversionWarning: A column-vector y was passed when a 1d array was expected. Please change the shape of y to (n_samples, ), for example using ravel().\n",
      "  y = column_or_1d(y, warn=True)\n",
      "C:\\Users\\AB Duke\\Anaconda4\\lib\\site-packages\\sklearn\\utils\\validation.py:724: DataConversionWarning: A column-vector y was passed when a 1d array was expected. Please change the shape of y to (n_samples, ), for example using ravel().\n",
      "  y = column_or_1d(y, warn=True)\n",
      "C:\\Users\\AB Duke\\Anaconda4\\lib\\site-packages\\sklearn\\utils\\validation.py:724: DataConversionWarning: A column-vector y was passed when a 1d array was expected. Please change the shape of y to (n_samples, ), for example using ravel().\n",
      "  y = column_or_1d(y, warn=True)\n",
      "C:\\Users\\AB Duke\\Anaconda4\\lib\\site-packages\\sklearn\\utils\\validation.py:724: DataConversionWarning: A column-vector y was passed when a 1d array was expected. Please change the shape of y to (n_samples, ), for example using ravel().\n",
      "  y = column_or_1d(y, warn=True)\n",
      "C:\\Users\\AB Duke\\Anaconda4\\lib\\site-packages\\sklearn\\utils\\validation.py:724: DataConversionWarning: A column-vector y was passed when a 1d array was expected. Please change the shape of y to (n_samples, ), for example using ravel().\n",
      "  y = column_or_1d(y, warn=True)\n"
     ]
    },
    {
     "data": {
      "text/plain": [
       "array([0.3125    , 0.625     , 0.75      , 0.5625    , 0.33333333,\n",
       "       0.6       , 0.53333333, 0.53333333, 0.46666667, 0.6       ,\n",
       "       0.6       , 0.6       , 0.6       , 0.53333333, 0.66666667,\n",
       "       0.6       , 0.57142857, 0.57142857, 0.57142857, 0.64285714])"
      ]
     },
     "execution_count": 314,
     "metadata": {},
     "output_type": "execute_result"
    }
   ],
   "source": [
    "from sklearn.model_selection import cross_val_score\n",
    "score = cross_val_score(model4, X1, y1, cv=20,scoring='accuracy')\n",
    "score"
   ]
  },
  {
   "cell_type": "code",
   "execution_count": 194,
   "metadata": {},
   "outputs": [
    {
     "data": {
      "text/plain": [
       "5"
      ]
     },
     "execution_count": 194,
     "metadata": {},
     "output_type": "execute_result"
    }
   ],
   "source": [
    "kf.get_n_splits(X)"
   ]
  },
  {
   "cell_type": "code",
   "execution_count": 198,
   "metadata": {},
   "outputs": [],
   "source": [
    "for train_index, test_index in kf.split(X1):\n",
    "    X_tr,X_te = X1[train_index],X1[test_index]\n",
    "    y_tr, y_te = y1[train_index],y1[test_index]"
   ]
  },
  {
   "cell_type": "code",
   "execution_count": 200,
   "metadata": {},
   "outputs": [
    {
     "data": {
      "text/plain": [
       "(60, 300)"
      ]
     },
     "execution_count": 200,
     "metadata": {},
     "output_type": "execute_result"
    }
   ],
   "source": [
    "X_te.shape"
   ]
  },
  {
   "cell_type": "code",
   "execution_count": 202,
   "metadata": {},
   "outputs": [
    {
     "data": {
      "text/plain": [
       "(240, 300)"
      ]
     },
     "execution_count": 202,
     "metadata": {},
     "output_type": "execute_result"
    }
   ],
   "source": [
    "X_tr.shape"
   ]
  },
  {
   "cell_type": "code",
   "execution_count": 232,
   "metadata": {},
   "outputs": [
    {
     "name": "stdout",
     "output_type": "stream",
     "text": [
      "0.7333333333333333\n",
      "[[ 0  0]\n",
      " [16 44]]\n",
      "              precision    recall  f1-score   support\n",
      "\n",
      "           0       0.00      0.00      0.00         0\n",
      "           1       1.00      0.73      0.85        60\n",
      "\n",
      "    accuracy                           0.73        60\n",
      "   macro avg       0.50      0.37      0.42        60\n",
      "weighted avg       1.00      0.73      0.85        60\n",
      "\n"
     ]
    },
    {
     "name": "stderr",
     "output_type": "stream",
     "text": [
      "C:\\Users\\AB Duke\\Anaconda4\\lib\\site-packages\\sklearn\\utils\\validation.py:724: DataConversionWarning: A column-vector y was passed when a 1d array was expected. Please change the shape of y to (n_samples, ), for example using ravel().\n",
      "  y = column_or_1d(y, warn=True)\n",
      "C:\\Users\\AB Duke\\Anaconda4\\lib\\site-packages\\sklearn\\metrics\\classification.py:1439: UndefinedMetricWarning: Recall and F-score are ill-defined and being set to 0.0 in labels with no true samples.\n",
      "  'recall', 'true', average, warn_for)\n"
     ]
    }
   ],
   "source": [
    "#model 4 SVM\n",
    "from sklearn.svm import SVC\n",
    "model4 = SVC(C=1000,gamma=0.0001)\n",
    "model4.fit(X_tr,y_tr)\n",
    "ypred4 = model4.predict(X_te)\n",
    "\n",
    "from sklearn.metrics import confusion_matrix,classification_report\n",
    "#use print only if train_test_split is used\n",
    "print(accuracy_score(y_te,ypred4))\n",
    "print(confusion_matrix(y_te,ypred4))\n",
    "print(classification_report(y_te,ypred4))"
   ]
  },
  {
   "cell_type": "code",
   "execution_count": 229,
   "metadata": {},
   "outputs": [
    {
     "name": "stderr",
     "output_type": "stream",
     "text": [
      "C:\\Users\\AB Duke\\Anaconda4\\lib\\site-packages\\ipykernel_launcher.py:5: DataConversionWarning: A column-vector y was passed when a 1d array was expected. Please change the shape of y to (n_samples,), for example using ravel().\n",
      "  \"\"\"\n"
     ]
    },
    {
     "name": "stdout",
     "output_type": "stream",
     "text": [
      "0.6333333333333333\n",
      "              precision    recall  f1-score   support\n",
      "\n",
      "           0       0.00      0.00      0.00         0\n",
      "           1       1.00      0.63      0.78        60\n",
      "\n",
      "    accuracy                           0.63        60\n",
      "   macro avg       0.50      0.32      0.39        60\n",
      "weighted avg       1.00      0.63      0.78        60\n",
      "\n",
      "[[ 0  0]\n",
      " [22 38]]\n"
     ]
    },
    {
     "name": "stderr",
     "output_type": "stream",
     "text": [
      "C:\\Users\\AB Duke\\Anaconda4\\lib\\site-packages\\sklearn\\metrics\\classification.py:1439: UndefinedMetricWarning: Recall and F-score are ill-defined and being set to 0.0 in labels with no true samples.\n",
      "  'recall', 'true', average, warn_for)\n"
     ]
    }
   ],
   "source": [
    "from sklearn.ensemble import RandomForestClassifier\n",
    "\n",
    "\n",
    "model2=RandomForestClassifier(max_depth=10,n_estimators=10000,min_samples_split=3,criterion='gini')\n",
    "model2.fit(X_tr,y_tr)\n",
    "y_predrf=model2.predict(X_te)\n",
    "\n",
    "\n",
    "#use print only if train_test_split is used\n",
    "from sklearn.metrics import accuracy_score\n",
    "print(accuracy_score(y_te,y_predrf))\n",
    "print(classification_report(y_te,y_predrf))\n",
    "print(confusion_matrix(y_te,y_predrf))"
   ]
  },
  {
   "cell_type": "code",
   "execution_count": 346,
   "metadata": {},
   "outputs": [
    {
     "ename": "ValueError",
     "evalue": "The gamma value of 0.0 is invalid. Use 'auto' to set gamma to a value of 1 / n_features.",
     "output_type": "error",
     "traceback": [
      "\u001b[1;31m---------------------------------------------------------------------------\u001b[0m",
      "\u001b[1;31mValueError\u001b[0m                                Traceback (most recent call last)",
      "\u001b[1;32m<ipython-input-346-4abafbd7b4eb>\u001b[0m in \u001b[0;36m<module>\u001b[1;34m\u001b[0m\n\u001b[0;32m     20\u001b[0m     \u001b[1;32mreturn\u001b[0m \u001b[1;36m1.0\u001b[0m \u001b[1;33m-\u001b[0m \u001b[0mestimate\u001b[0m\u001b[1;33m\u001b[0m\u001b[1;33m\u001b[0m\u001b[0m\n\u001b[0;32m     21\u001b[0m \u001b[1;31m# perform optimization\u001b[0m\u001b[1;33m\u001b[0m\u001b[1;33m\u001b[0m\u001b[1;33m\u001b[0m\u001b[0m\n\u001b[1;32m---> 22\u001b[1;33m \u001b[0mresult\u001b[0m \u001b[1;33m=\u001b[0m \u001b[0mgp_minimize\u001b[0m\u001b[1;33m(\u001b[0m\u001b[0mevaluate_model\u001b[0m\u001b[1;33m,\u001b[0m \u001b[0msearch_space\u001b[0m\u001b[1;33m)\u001b[0m\u001b[1;33m\u001b[0m\u001b[1;33m\u001b[0m\u001b[0m\n\u001b[0m\u001b[0;32m     23\u001b[0m \u001b[1;33m\u001b[0m\u001b[0m\n\u001b[0;32m     24\u001b[0m \u001b[1;31m# summarizing finding:\u001b[0m\u001b[1;33m\u001b[0m\u001b[1;33m\u001b[0m\u001b[1;33m\u001b[0m\u001b[0m\n",
      "\u001b[1;32m~\\Anaconda4\\lib\\site-packages\\skopt\\optimizer\\gp.py\u001b[0m in \u001b[0;36mgp_minimize\u001b[1;34m(func, dimensions, base_estimator, n_calls, n_random_starts, acq_func, acq_optimizer, x0, y0, random_state, verbose, callback, n_points, n_restarts_optimizer, xi, kappa, noise, n_jobs)\u001b[0m\n\u001b[0;32m    226\u001b[0m         \u001b[0mn_restarts_optimizer\u001b[0m\u001b[1;33m=\u001b[0m\u001b[0mn_restarts_optimizer\u001b[0m\u001b[1;33m,\u001b[0m\u001b[1;33m\u001b[0m\u001b[1;33m\u001b[0m\u001b[0m\n\u001b[0;32m    227\u001b[0m         \u001b[0mx0\u001b[0m\u001b[1;33m=\u001b[0m\u001b[0mx0\u001b[0m\u001b[1;33m,\u001b[0m \u001b[0my0\u001b[0m\u001b[1;33m=\u001b[0m\u001b[0my0\u001b[0m\u001b[1;33m,\u001b[0m \u001b[0mrandom_state\u001b[0m\u001b[1;33m=\u001b[0m\u001b[0mrng\u001b[0m\u001b[1;33m,\u001b[0m \u001b[0mverbose\u001b[0m\u001b[1;33m=\u001b[0m\u001b[0mverbose\u001b[0m\u001b[1;33m,\u001b[0m\u001b[1;33m\u001b[0m\u001b[1;33m\u001b[0m\u001b[0m\n\u001b[1;32m--> 228\u001b[1;33m         callback=callback, n_jobs=n_jobs)\n\u001b[0m",
      "\u001b[1;32m~\\Anaconda4\\lib\\site-packages\\skopt\\optimizer\\base.py\u001b[0m in \u001b[0;36mbase_minimize\u001b[1;34m(func, dimensions, base_estimator, n_calls, n_random_starts, acq_func, acq_optimizer, x0, y0, random_state, verbose, callback, n_points, n_restarts_optimizer, xi, kappa, n_jobs)\u001b[0m\n\u001b[0;32m    246\u001b[0m     \u001b[1;32mfor\u001b[0m \u001b[0mn\u001b[0m \u001b[1;32min\u001b[0m \u001b[0mrange\u001b[0m\u001b[1;33m(\u001b[0m\u001b[0mn_calls\u001b[0m\u001b[1;33m)\u001b[0m\u001b[1;33m:\u001b[0m\u001b[1;33m\u001b[0m\u001b[1;33m\u001b[0m\u001b[0m\n\u001b[0;32m    247\u001b[0m         \u001b[0mnext_x\u001b[0m \u001b[1;33m=\u001b[0m \u001b[0moptimizer\u001b[0m\u001b[1;33m.\u001b[0m\u001b[0mask\u001b[0m\u001b[1;33m(\u001b[0m\u001b[1;33m)\u001b[0m\u001b[1;33m\u001b[0m\u001b[1;33m\u001b[0m\u001b[0m\n\u001b[1;32m--> 248\u001b[1;33m         \u001b[0mnext_y\u001b[0m \u001b[1;33m=\u001b[0m \u001b[0mfunc\u001b[0m\u001b[1;33m(\u001b[0m\u001b[0mnext_x\u001b[0m\u001b[1;33m)\u001b[0m\u001b[1;33m\u001b[0m\u001b[1;33m\u001b[0m\u001b[0m\n\u001b[0m\u001b[0;32m    249\u001b[0m         \u001b[0mresult\u001b[0m \u001b[1;33m=\u001b[0m \u001b[0moptimizer\u001b[0m\u001b[1;33m.\u001b[0m\u001b[0mtell\u001b[0m\u001b[1;33m(\u001b[0m\u001b[0mnext_x\u001b[0m\u001b[1;33m,\u001b[0m \u001b[0mnext_y\u001b[0m\u001b[1;33m)\u001b[0m\u001b[1;33m\u001b[0m\u001b[1;33m\u001b[0m\u001b[0m\n\u001b[0;32m    250\u001b[0m         \u001b[0mresult\u001b[0m\u001b[1;33m.\u001b[0m\u001b[0mspecs\u001b[0m \u001b[1;33m=\u001b[0m \u001b[0mspecs\u001b[0m\u001b[1;33m\u001b[0m\u001b[1;33m\u001b[0m\u001b[0m\n",
      "\u001b[1;32m~\\Anaconda4\\lib\\site-packages\\skopt\\utils.py\u001b[0m in \u001b[0;36mwrapper\u001b[1;34m(x)\u001b[0m\n\u001b[0;32m    634\u001b[0m \u001b[1;33m\u001b[0m\u001b[0m\n\u001b[0;32m    635\u001b[0m             \u001b[1;31m# Call the wrapped objective function with the named arguments.\u001b[0m\u001b[1;33m\u001b[0m\u001b[1;33m\u001b[0m\u001b[1;33m\u001b[0m\u001b[0m\n\u001b[1;32m--> 636\u001b[1;33m             \u001b[0mobjective_value\u001b[0m \u001b[1;33m=\u001b[0m \u001b[0mfunc\u001b[0m\u001b[1;33m(\u001b[0m\u001b[1;33m**\u001b[0m\u001b[0marg_dict\u001b[0m\u001b[1;33m)\u001b[0m\u001b[1;33m\u001b[0m\u001b[1;33m\u001b[0m\u001b[0m\n\u001b[0m\u001b[0;32m    637\u001b[0m \u001b[1;33m\u001b[0m\u001b[0m\n\u001b[0;32m    638\u001b[0m             \u001b[1;32mreturn\u001b[0m \u001b[0mobjective_value\u001b[0m\u001b[1;33m\u001b[0m\u001b[1;33m\u001b[0m\u001b[0m\n",
      "\u001b[1;32m<ipython-input-346-4abafbd7b4eb>\u001b[0m in \u001b[0;36mevaluate_model\u001b[1;34m(**params)\u001b[0m\n\u001b[0;32m     15\u001b[0m     \u001b[0mmodels\u001b[0m\u001b[1;33m.\u001b[0m\u001b[0mset_params\u001b[0m\u001b[1;33m(\u001b[0m\u001b[1;33m**\u001b[0m\u001b[0mparams\u001b[0m\u001b[1;33m)\u001b[0m\u001b[1;33m\u001b[0m\u001b[1;33m\u001b[0m\u001b[0m\n\u001b[0;32m     16\u001b[0m     \u001b[1;31m# calculate 5-fold cross validation\u001b[0m\u001b[1;33m\u001b[0m\u001b[1;33m\u001b[0m\u001b[1;33m\u001b[0m\u001b[0m\n\u001b[1;32m---> 17\u001b[1;33m     \u001b[0mresult\u001b[0m \u001b[1;33m=\u001b[0m \u001b[0mcross_val_score\u001b[0m\u001b[1;33m(\u001b[0m\u001b[0mmodels\u001b[0m\u001b[1;33m,\u001b[0m \u001b[0mX1\u001b[0m\u001b[1;33m,\u001b[0m \u001b[0my1\u001b[0m\u001b[1;33m,\u001b[0m \u001b[0mcv\u001b[0m\u001b[1;33m=\u001b[0m\u001b[1;36m5\u001b[0m\u001b[1;33m,\u001b[0m \u001b[0mn_jobs\u001b[0m\u001b[1;33m=\u001b[0m\u001b[1;33m-\u001b[0m\u001b[1;36m1\u001b[0m\u001b[1;33m,\u001b[0m \u001b[0mscoring\u001b[0m\u001b[1;33m=\u001b[0m\u001b[1;34m'accuracy'\u001b[0m\u001b[1;33m)\u001b[0m\u001b[1;33m\u001b[0m\u001b[1;33m\u001b[0m\u001b[0m\n\u001b[0m\u001b[0;32m     18\u001b[0m     \u001b[1;31m# calculate the mean of the scores\u001b[0m\u001b[1;33m\u001b[0m\u001b[1;33m\u001b[0m\u001b[1;33m\u001b[0m\u001b[0m\n\u001b[0;32m     19\u001b[0m     \u001b[0mestimate\u001b[0m \u001b[1;33m=\u001b[0m \u001b[0mmean\u001b[0m\u001b[1;33m(\u001b[0m\u001b[0mresult\u001b[0m\u001b[1;33m)\u001b[0m\u001b[1;33m\u001b[0m\u001b[1;33m\u001b[0m\u001b[0m\n",
      "\u001b[1;32m~\\Anaconda4\\lib\\site-packages\\sklearn\\model_selection\\_validation.py\u001b[0m in \u001b[0;36mcross_val_score\u001b[1;34m(estimator, X, y, groups, scoring, cv, n_jobs, verbose, fit_params, pre_dispatch, error_score)\u001b[0m\n\u001b[0;32m    387\u001b[0m                                 \u001b[0mfit_params\u001b[0m\u001b[1;33m=\u001b[0m\u001b[0mfit_params\u001b[0m\u001b[1;33m,\u001b[0m\u001b[1;33m\u001b[0m\u001b[1;33m\u001b[0m\u001b[0m\n\u001b[0;32m    388\u001b[0m                                 \u001b[0mpre_dispatch\u001b[0m\u001b[1;33m=\u001b[0m\u001b[0mpre_dispatch\u001b[0m\u001b[1;33m,\u001b[0m\u001b[1;33m\u001b[0m\u001b[1;33m\u001b[0m\u001b[0m\n\u001b[1;32m--> 389\u001b[1;33m                                 error_score=error_score)\n\u001b[0m\u001b[0;32m    390\u001b[0m     \u001b[1;32mreturn\u001b[0m \u001b[0mcv_results\u001b[0m\u001b[1;33m[\u001b[0m\u001b[1;34m'test_score'\u001b[0m\u001b[1;33m]\u001b[0m\u001b[1;33m\u001b[0m\u001b[1;33m\u001b[0m\u001b[0m\n\u001b[0;32m    391\u001b[0m \u001b[1;33m\u001b[0m\u001b[0m\n",
      "\u001b[1;32m~\\Anaconda4\\lib\\site-packages\\sklearn\\model_selection\\_validation.py\u001b[0m in \u001b[0;36mcross_validate\u001b[1;34m(estimator, X, y, groups, scoring, cv, n_jobs, verbose, fit_params, pre_dispatch, return_train_score, return_estimator, error_score)\u001b[0m\n\u001b[0;32m    229\u001b[0m             \u001b[0mreturn_times\u001b[0m\u001b[1;33m=\u001b[0m\u001b[1;32mTrue\u001b[0m\u001b[1;33m,\u001b[0m \u001b[0mreturn_estimator\u001b[0m\u001b[1;33m=\u001b[0m\u001b[0mreturn_estimator\u001b[0m\u001b[1;33m,\u001b[0m\u001b[1;33m\u001b[0m\u001b[1;33m\u001b[0m\u001b[0m\n\u001b[0;32m    230\u001b[0m             error_score=error_score)\n\u001b[1;32m--> 231\u001b[1;33m         for train, test in cv.split(X, y, groups))\n\u001b[0m\u001b[0;32m    232\u001b[0m \u001b[1;33m\u001b[0m\u001b[0m\n\u001b[0;32m    233\u001b[0m     \u001b[0mzipped_scores\u001b[0m \u001b[1;33m=\u001b[0m \u001b[0mlist\u001b[0m\u001b[1;33m(\u001b[0m\u001b[0mzip\u001b[0m\u001b[1;33m(\u001b[0m\u001b[1;33m*\u001b[0m\u001b[0mscores\u001b[0m\u001b[1;33m)\u001b[0m\u001b[1;33m)\u001b[0m\u001b[1;33m\u001b[0m\u001b[1;33m\u001b[0m\u001b[0m\n",
      "\u001b[1;32m~\\Anaconda4\\lib\\site-packages\\joblib\\parallel.py\u001b[0m in \u001b[0;36m__call__\u001b[1;34m(self, iterable)\u001b[0m\n\u001b[0;32m    919\u001b[0m             \u001b[1;31m# remaining jobs.\u001b[0m\u001b[1;33m\u001b[0m\u001b[1;33m\u001b[0m\u001b[1;33m\u001b[0m\u001b[0m\n\u001b[0;32m    920\u001b[0m             \u001b[0mself\u001b[0m\u001b[1;33m.\u001b[0m\u001b[0m_iterating\u001b[0m \u001b[1;33m=\u001b[0m \u001b[1;32mFalse\u001b[0m\u001b[1;33m\u001b[0m\u001b[1;33m\u001b[0m\u001b[0m\n\u001b[1;32m--> 921\u001b[1;33m             \u001b[1;32mif\u001b[0m \u001b[0mself\u001b[0m\u001b[1;33m.\u001b[0m\u001b[0mdispatch_one_batch\u001b[0m\u001b[1;33m(\u001b[0m\u001b[0miterator\u001b[0m\u001b[1;33m)\u001b[0m\u001b[1;33m:\u001b[0m\u001b[1;33m\u001b[0m\u001b[1;33m\u001b[0m\u001b[0m\n\u001b[0m\u001b[0;32m    922\u001b[0m                 \u001b[0mself\u001b[0m\u001b[1;33m.\u001b[0m\u001b[0m_iterating\u001b[0m \u001b[1;33m=\u001b[0m \u001b[0mself\u001b[0m\u001b[1;33m.\u001b[0m\u001b[0m_original_iterator\u001b[0m \u001b[1;32mis\u001b[0m \u001b[1;32mnot\u001b[0m \u001b[1;32mNone\u001b[0m\u001b[1;33m\u001b[0m\u001b[1;33m\u001b[0m\u001b[0m\n\u001b[0;32m    923\u001b[0m \u001b[1;33m\u001b[0m\u001b[0m\n",
      "\u001b[1;32m~\\Anaconda4\\lib\\site-packages\\joblib\\parallel.py\u001b[0m in \u001b[0;36mdispatch_one_batch\u001b[1;34m(self, iterator)\u001b[0m\n\u001b[0;32m    752\u001b[0m             tasks = BatchedCalls(itertools.islice(iterator, batch_size),\n\u001b[0;32m    753\u001b[0m                                  \u001b[0mself\u001b[0m\u001b[1;33m.\u001b[0m\u001b[0m_backend\u001b[0m\u001b[1;33m.\u001b[0m\u001b[0mget_nested_backend\u001b[0m\u001b[1;33m(\u001b[0m\u001b[1;33m)\u001b[0m\u001b[1;33m,\u001b[0m\u001b[1;33m\u001b[0m\u001b[1;33m\u001b[0m\u001b[0m\n\u001b[1;32m--> 754\u001b[1;33m                                  self._pickle_cache)\n\u001b[0m\u001b[0;32m    755\u001b[0m             \u001b[1;32mif\u001b[0m \u001b[0mlen\u001b[0m\u001b[1;33m(\u001b[0m\u001b[0mtasks\u001b[0m\u001b[1;33m)\u001b[0m \u001b[1;33m==\u001b[0m \u001b[1;36m0\u001b[0m\u001b[1;33m:\u001b[0m\u001b[1;33m\u001b[0m\u001b[1;33m\u001b[0m\u001b[0m\n\u001b[0;32m    756\u001b[0m                 \u001b[1;31m# No more tasks available in the iterator: tell caller to stop.\u001b[0m\u001b[1;33m\u001b[0m\u001b[1;33m\u001b[0m\u001b[1;33m\u001b[0m\u001b[0m\n",
      "\u001b[1;32m~\\Anaconda4\\lib\\site-packages\\joblib\\parallel.py\u001b[0m in \u001b[0;36m__init__\u001b[1;34m(self, iterator_slice, backend_and_jobs, pickle_cache)\u001b[0m\n\u001b[0;32m    208\u001b[0m \u001b[1;33m\u001b[0m\u001b[0m\n\u001b[0;32m    209\u001b[0m     \u001b[1;32mdef\u001b[0m \u001b[0m__init__\u001b[0m\u001b[1;33m(\u001b[0m\u001b[0mself\u001b[0m\u001b[1;33m,\u001b[0m \u001b[0miterator_slice\u001b[0m\u001b[1;33m,\u001b[0m \u001b[0mbackend_and_jobs\u001b[0m\u001b[1;33m,\u001b[0m \u001b[0mpickle_cache\u001b[0m\u001b[1;33m=\u001b[0m\u001b[1;32mNone\u001b[0m\u001b[1;33m)\u001b[0m\u001b[1;33m:\u001b[0m\u001b[1;33m\u001b[0m\u001b[1;33m\u001b[0m\u001b[0m\n\u001b[1;32m--> 210\u001b[1;33m         \u001b[0mself\u001b[0m\u001b[1;33m.\u001b[0m\u001b[0mitems\u001b[0m \u001b[1;33m=\u001b[0m \u001b[0mlist\u001b[0m\u001b[1;33m(\u001b[0m\u001b[0miterator_slice\u001b[0m\u001b[1;33m)\u001b[0m\u001b[1;33m\u001b[0m\u001b[1;33m\u001b[0m\u001b[0m\n\u001b[0m\u001b[0;32m    211\u001b[0m         \u001b[0mself\u001b[0m\u001b[1;33m.\u001b[0m\u001b[0m_size\u001b[0m \u001b[1;33m=\u001b[0m \u001b[0mlen\u001b[0m\u001b[1;33m(\u001b[0m\u001b[0mself\u001b[0m\u001b[1;33m.\u001b[0m\u001b[0mitems\u001b[0m\u001b[1;33m)\u001b[0m\u001b[1;33m\u001b[0m\u001b[1;33m\u001b[0m\u001b[0m\n\u001b[0;32m    212\u001b[0m         \u001b[1;32mif\u001b[0m \u001b[0misinstance\u001b[0m\u001b[1;33m(\u001b[0m\u001b[0mbackend_and_jobs\u001b[0m\u001b[1;33m,\u001b[0m \u001b[0mtuple\u001b[0m\u001b[1;33m)\u001b[0m\u001b[1;33m:\u001b[0m\u001b[1;33m\u001b[0m\u001b[1;33m\u001b[0m\u001b[0m\n",
      "\u001b[1;32m~\\Anaconda4\\lib\\site-packages\\sklearn\\model_selection\\_validation.py\u001b[0m in \u001b[0;36m<genexpr>\u001b[1;34m(.0)\u001b[0m\n\u001b[0;32m    229\u001b[0m             \u001b[0mreturn_times\u001b[0m\u001b[1;33m=\u001b[0m\u001b[1;32mTrue\u001b[0m\u001b[1;33m,\u001b[0m \u001b[0mreturn_estimator\u001b[0m\u001b[1;33m=\u001b[0m\u001b[0mreturn_estimator\u001b[0m\u001b[1;33m,\u001b[0m\u001b[1;33m\u001b[0m\u001b[1;33m\u001b[0m\u001b[0m\n\u001b[0;32m    230\u001b[0m             error_score=error_score)\n\u001b[1;32m--> 231\u001b[1;33m         for train, test in cv.split(X, y, groups))\n\u001b[0m\u001b[0;32m    232\u001b[0m \u001b[1;33m\u001b[0m\u001b[0m\n\u001b[0;32m    233\u001b[0m     \u001b[0mzipped_scores\u001b[0m \u001b[1;33m=\u001b[0m \u001b[0mlist\u001b[0m\u001b[1;33m(\u001b[0m\u001b[0mzip\u001b[0m\u001b[1;33m(\u001b[0m\u001b[1;33m*\u001b[0m\u001b[0mscores\u001b[0m\u001b[1;33m)\u001b[0m\u001b[1;33m)\u001b[0m\u001b[1;33m\u001b[0m\u001b[1;33m\u001b[0m\u001b[0m\n",
      "\u001b[1;32m~\\Anaconda4\\lib\\site-packages\\sklearn\\base.py\u001b[0m in \u001b[0;36mclone\u001b[1;34m(estimator, safe)\u001b[0m\n\u001b[0;32m     63\u001b[0m     \u001b[1;32mfor\u001b[0m \u001b[0mname\u001b[0m\u001b[1;33m,\u001b[0m \u001b[0mparam\u001b[0m \u001b[1;32min\u001b[0m \u001b[0mnew_object_params\u001b[0m\u001b[1;33m.\u001b[0m\u001b[0mitems\u001b[0m\u001b[1;33m(\u001b[0m\u001b[1;33m)\u001b[0m\u001b[1;33m:\u001b[0m\u001b[1;33m\u001b[0m\u001b[1;33m\u001b[0m\u001b[0m\n\u001b[0;32m     64\u001b[0m         \u001b[0mnew_object_params\u001b[0m\u001b[1;33m[\u001b[0m\u001b[0mname\u001b[0m\u001b[1;33m]\u001b[0m \u001b[1;33m=\u001b[0m \u001b[0mclone\u001b[0m\u001b[1;33m(\u001b[0m\u001b[0mparam\u001b[0m\u001b[1;33m,\u001b[0m \u001b[0msafe\u001b[0m\u001b[1;33m=\u001b[0m\u001b[1;32mFalse\u001b[0m\u001b[1;33m)\u001b[0m\u001b[1;33m\u001b[0m\u001b[1;33m\u001b[0m\u001b[0m\n\u001b[1;32m---> 65\u001b[1;33m     \u001b[0mnew_object\u001b[0m \u001b[1;33m=\u001b[0m \u001b[0mklass\u001b[0m\u001b[1;33m(\u001b[0m\u001b[1;33m**\u001b[0m\u001b[0mnew_object_params\u001b[0m\u001b[1;33m)\u001b[0m\u001b[1;33m\u001b[0m\u001b[1;33m\u001b[0m\u001b[0m\n\u001b[0m\u001b[0;32m     66\u001b[0m     \u001b[0mparams_set\u001b[0m \u001b[1;33m=\u001b[0m \u001b[0mnew_object\u001b[0m\u001b[1;33m.\u001b[0m\u001b[0mget_params\u001b[0m\u001b[1;33m(\u001b[0m\u001b[0mdeep\u001b[0m\u001b[1;33m=\u001b[0m\u001b[1;32mFalse\u001b[0m\u001b[1;33m)\u001b[0m\u001b[1;33m\u001b[0m\u001b[1;33m\u001b[0m\u001b[0m\n\u001b[0;32m     67\u001b[0m \u001b[1;33m\u001b[0m\u001b[0m\n",
      "\u001b[1;32m~\\Anaconda4\\lib\\site-packages\\sklearn\\svm\\classes.py\u001b[0m in \u001b[0;36m__init__\u001b[1;34m(self, C, kernel, degree, gamma, coef0, shrinking, probability, tol, cache_size, class_weight, verbose, max_iter, decision_function_shape, random_state)\u001b[0m\n\u001b[0;32m    620\u001b[0m             \u001b[0mclass_weight\u001b[0m\u001b[1;33m=\u001b[0m\u001b[0mclass_weight\u001b[0m\u001b[1;33m,\u001b[0m \u001b[0mverbose\u001b[0m\u001b[1;33m=\u001b[0m\u001b[0mverbose\u001b[0m\u001b[1;33m,\u001b[0m \u001b[0mmax_iter\u001b[0m\u001b[1;33m=\u001b[0m\u001b[0mmax_iter\u001b[0m\u001b[1;33m,\u001b[0m\u001b[1;33m\u001b[0m\u001b[1;33m\u001b[0m\u001b[0m\n\u001b[0;32m    621\u001b[0m             \u001b[0mdecision_function_shape\u001b[0m\u001b[1;33m=\u001b[0m\u001b[0mdecision_function_shape\u001b[0m\u001b[1;33m,\u001b[0m\u001b[1;33m\u001b[0m\u001b[1;33m\u001b[0m\u001b[0m\n\u001b[1;32m--> 622\u001b[1;33m             random_state=random_state)\n\u001b[0m\u001b[0;32m    623\u001b[0m \u001b[1;33m\u001b[0m\u001b[0m\n\u001b[0;32m    624\u001b[0m \u001b[1;33m\u001b[0m\u001b[0m\n",
      "\u001b[1;32m~\\Anaconda4\\lib\\site-packages\\sklearn\\svm\\base.py\u001b[0m in \u001b[0;36m__init__\u001b[1;34m(self, kernel, degree, gamma, coef0, tol, C, nu, shrinking, probability, cache_size, class_weight, verbose, max_iter, decision_function_shape, random_state)\u001b[0m\n\u001b[0;32m    509\u001b[0m             \u001b[0mprobability\u001b[0m\u001b[1;33m=\u001b[0m\u001b[0mprobability\u001b[0m\u001b[1;33m,\u001b[0m \u001b[0mcache_size\u001b[0m\u001b[1;33m=\u001b[0m\u001b[0mcache_size\u001b[0m\u001b[1;33m,\u001b[0m\u001b[1;33m\u001b[0m\u001b[1;33m\u001b[0m\u001b[0m\n\u001b[0;32m    510\u001b[0m             \u001b[0mclass_weight\u001b[0m\u001b[1;33m=\u001b[0m\u001b[0mclass_weight\u001b[0m\u001b[1;33m,\u001b[0m \u001b[0mverbose\u001b[0m\u001b[1;33m=\u001b[0m\u001b[0mverbose\u001b[0m\u001b[1;33m,\u001b[0m \u001b[0mmax_iter\u001b[0m\u001b[1;33m=\u001b[0m\u001b[0mmax_iter\u001b[0m\u001b[1;33m,\u001b[0m\u001b[1;33m\u001b[0m\u001b[1;33m\u001b[0m\u001b[0m\n\u001b[1;32m--> 511\u001b[1;33m             random_state=random_state)\n\u001b[0m\u001b[0;32m    512\u001b[0m \u001b[1;33m\u001b[0m\u001b[0m\n\u001b[0;32m    513\u001b[0m     \u001b[1;32mdef\u001b[0m \u001b[0m_validate_targets\u001b[0m\u001b[1;33m(\u001b[0m\u001b[0mself\u001b[0m\u001b[1;33m,\u001b[0m \u001b[0my\u001b[0m\u001b[1;33m)\u001b[0m\u001b[1;33m:\u001b[0m\u001b[1;33m\u001b[0m\u001b[1;33m\u001b[0m\u001b[0m\n",
      "\u001b[1;32m~\\Anaconda4\\lib\\site-packages\\sklearn\\svm\\base.py\u001b[0m in \u001b[0;36m__init__\u001b[1;34m(self, kernel, degree, gamma, coef0, tol, C, nu, epsilon, shrinking, probability, cache_size, class_weight, verbose, max_iter, random_state)\u001b[0m\n\u001b[0;32m     80\u001b[0m             msg = (\"The gamma value of 0.0 is invalid. Use 'auto' to set\"\n\u001b[0;32m     81\u001b[0m                    \" gamma to a value of 1 / n_features.\")\n\u001b[1;32m---> 82\u001b[1;33m             \u001b[1;32mraise\u001b[0m \u001b[0mValueError\u001b[0m\u001b[1;33m(\u001b[0m\u001b[0mmsg\u001b[0m\u001b[1;33m)\u001b[0m\u001b[1;33m\u001b[0m\u001b[1;33m\u001b[0m\u001b[0m\n\u001b[0m\u001b[0;32m     83\u001b[0m \u001b[1;33m\u001b[0m\u001b[0m\n\u001b[0;32m     84\u001b[0m         \u001b[0mself\u001b[0m\u001b[1;33m.\u001b[0m\u001b[0mkernel\u001b[0m \u001b[1;33m=\u001b[0m \u001b[0mkernel\u001b[0m\u001b[1;33m\u001b[0m\u001b[1;33m\u001b[0m\u001b[0m\n",
      "\u001b[1;31mValueError\u001b[0m: The gamma value of 0.0 is invalid. Use 'auto' to set gamma to a value of 1 / n_features."
     ]
    }
   ],
   "source": [
    "# example of bayesian optimization with scikit-optimize\n",
    "from numpy import mean\n",
    "from sklearn.datasets.samples_generator import make_blobs\n",
    "from sklearn.model_selection import cross_val_score\n",
    "from sklearn.neighbors import KNeighborsClassifier\n",
    "from skopt.space import Integer\n",
    "from skopt.utils import use_named_args\n",
    "from skopt import gp_minimize\n",
    "\n",
    "search_space = [Integer(1, 100, name='C'), Integer(0.0001, 1, name='gamma')]\n",
    "models = SVC()\n",
    "@use_named_args(search_space)\n",
    "def evaluate_model(**params):\n",
    "    # something\n",
    "    models.set_params(**params)\n",
    "    # calculate 5-fold cross validation\n",
    "    result = cross_val_score(models, X1, y1, cv=5, n_jobs=-1, scoring='accuracy')\n",
    "    # calculate the mean of the scores\n",
    "    estimate = mean(result)\n",
    "    return 1.0 - estimate\n",
    "# perform optimization\n",
    "result = gp_minimize(evaluate_model, search_space)\n",
    "\n",
    "# summarizing finding:\n",
    "print('Best Accuracy: %.3f' % (1.0 - result.fun))\n",
    "print('Best Parameters: n_neighbors=%d, p=%d' % (result.x[0], result.x[1]))"
   ]
  },
  {
   "cell_type": "code",
   "execution_count": 341,
   "metadata": {},
   "outputs": [
    {
     "data": {
      "text/plain": [
       "[Integer(low=1, high=100), Integer(low=0.001, high=1)]"
      ]
     },
     "execution_count": 341,
     "metadata": {},
     "output_type": "execute_result"
    }
   ],
   "source": [
    "search_space\n"
   ]
  },
  {
   "cell_type": "code",
   "execution_count": 355,
   "metadata": {},
   "outputs": [],
   "source": [
    "from sklearn.model_selection import cross_val_score\n",
    "from sklearn.svm import SVC\n",
    "\n",
    "def sample_loss(params):\n",
    "  C = params[0]\n",
    "  gamma = params[1]\n",
    "\n",
    "  # Sample C and gamma on the log-uniform scale\n",
    "  modelD = SVC(C=10 ** C, gamma=10 ** gamma, random_state=12345)\n",
    "\n",
    "  # Sample parameters on a log scale\n",
    "  return cross_val_score(modelD,\n",
    "                         X=X1,\n",
    "                         y=y1,\n",
    "                         scoring='accuracy',\n",
    "                         cv=5)"
   ]
  },
  {
   "cell_type": "code",
   "execution_count": null,
   "metadata": {},
   "outputs": [],
   "source": [
    "sample_loss([5,-5])"
   ]
  },
  {
   "cell_type": "code",
   "execution_count": 359,
   "metadata": {},
   "outputs": [],
   "source": [
    "import sklearn.gaussian_process as gp\n",
    "\n",
    "def bayesian_optimization(n_iters, sample_loss, xp, yp):\n",
    "\n",
    "\n",
    "  # Define the GP\n",
    "    kernel = gp.kernels.Matern()\n",
    "    model = gp.GaussianProcessRegressor(kernel=kernel,\n",
    "                                      alpha=1e-4,\n",
    "                                      n_restarts_optimizer=10,\n",
    "                                      normalize_y=True)\n",
    "    for i in range(n_iters):\n",
    "    # Update our belief of the loss function\n",
    "        model.fit(xp, yp)\n",
    "\n",
    "    # sample_next_hyperparameter is a method that computes the arg\n",
    "    # max of the acquisition function\n",
    "        next_sample = sample_next_hyperparameter(model, yp)\n",
    "\n",
    "    # Evaluate the loss for the new hyperparameters\n",
    "        next_loss = sample_loss(next_sample)"
   ]
  },
  {
   "cell_type": "code",
   "execution_count": 360,
   "metadata": {},
   "outputs": [
    {
     "ename": "NameError",
     "evalue": "name 'sample_next_hyperparameter' is not defined",
     "output_type": "error",
     "traceback": [
      "\u001b[1;31m---------------------------------------------------------------------------\u001b[0m",
      "\u001b[1;31mNameError\u001b[0m                                 Traceback (most recent call last)",
      "\u001b[1;32m<ipython-input-360-81fa710fdb99>\u001b[0m in \u001b[0;36m<module>\u001b[1;34m\u001b[0m\n\u001b[1;32m----> 1\u001b[1;33m \u001b[0mbayesian_optimization\u001b[0m\u001b[1;33m(\u001b[0m\u001b[1;36m5\u001b[0m\u001b[1;33m,\u001b[0m\u001b[1;33m[\u001b[0m\u001b[1;36m1\u001b[0m\u001b[1;33m,\u001b[0m\u001b[1;36m2\u001b[0m\u001b[1;33m]\u001b[0m\u001b[1;33m,\u001b[0m\u001b[0mX1\u001b[0m\u001b[1;33m,\u001b[0m\u001b[0my1\u001b[0m\u001b[1;33m)\u001b[0m\u001b[1;33m\u001b[0m\u001b[1;33m\u001b[0m\u001b[0m\n\u001b[0m",
      "\u001b[1;32m<ipython-input-359-f1642bc53ecb>\u001b[0m in \u001b[0;36mbayesian_optimization\u001b[1;34m(n_iters, sample_loss, xp, yp)\u001b[0m\n\u001b[0;32m     16\u001b[0m     \u001b[1;31m# sample_next_hyperparameter is a method that computes the arg\u001b[0m\u001b[1;33m\u001b[0m\u001b[1;33m\u001b[0m\u001b[1;33m\u001b[0m\u001b[0m\n\u001b[0;32m     17\u001b[0m     \u001b[1;31m# max of the acquisition function\u001b[0m\u001b[1;33m\u001b[0m\u001b[1;33m\u001b[0m\u001b[1;33m\u001b[0m\u001b[0m\n\u001b[1;32m---> 18\u001b[1;33m         \u001b[0mnext_sample\u001b[0m \u001b[1;33m=\u001b[0m \u001b[0msample_next_hyperparameter\u001b[0m\u001b[1;33m(\u001b[0m\u001b[0mmodel\u001b[0m\u001b[1;33m,\u001b[0m \u001b[0myp\u001b[0m\u001b[1;33m)\u001b[0m\u001b[1;33m\u001b[0m\u001b[1;33m\u001b[0m\u001b[0m\n\u001b[0m\u001b[0;32m     19\u001b[0m \u001b[1;33m\u001b[0m\u001b[0m\n\u001b[0;32m     20\u001b[0m     \u001b[1;31m# Evaluate the loss for the new hyperparameters\u001b[0m\u001b[1;33m\u001b[0m\u001b[1;33m\u001b[0m\u001b[1;33m\u001b[0m\u001b[0m\n",
      "\u001b[1;31mNameError\u001b[0m: name 'sample_next_hyperparameter' is not defined"
     ]
    }
   ],
   "source": [
    "bayesian_optimization(5,[1,2],X1,y1)"
   ]
  },
  {
   "cell_type": "code",
   "execution_count": null,
   "metadata": {},
   "outputs": [],
   "source": []
  }
 ],
 "metadata": {
  "kernelspec": {
   "display_name": "Python 3",
   "language": "python",
   "name": "python3"
  },
  "language_info": {
   "codemirror_mode": {
    "name": "ipython",
    "version": 3
   },
   "file_extension": ".py",
   "mimetype": "text/x-python",
   "name": "python",
   "nbconvert_exporter": "python",
   "pygments_lexer": "ipython3",
   "version": "3.7.3"
  }
 },
 "nbformat": 4,
 "nbformat_minor": 2
}
